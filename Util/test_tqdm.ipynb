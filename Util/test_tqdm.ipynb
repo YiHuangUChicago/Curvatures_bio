{
 "cells": [
  {
   "cell_type": "code",
   "execution_count": 5,
   "metadata": {},
   "outputs": [],
   "source": [
    "from tqdm import tqdm\n",
    "import time"
   ]
  },
  {
   "cell_type": "code",
   "execution_count": 6,
   "metadata": {},
   "outputs": [
    {
     "name": "stderr",
     "output_type": "stream",
     "text": [
      "100%|██████████| 100/100 [00:10<00:00,  9.86it/s]\n"
     ]
    }
   ],
   "source": [
    "for i in tqdm(range(100)):\n",
    "    time.sleep(0.1)"
   ]
  },
  {
   "cell_type": "code",
   "execution_count": 15,
   "metadata": {},
   "outputs": [
    {
     "name": "stderr",
     "output_type": "stream",
     "text": [
      "100%|██████████| 45/45 [00:00<00:00, 16160.95it/s]"
     ]
    },
    {
     "name": "stdout",
     "output_type": "stream",
     "text": [
      "0, 1\n",
      "0, 2\n",
      "0, 3\n",
      "0, 4\n",
      "0, 5\n",
      "0, 6\n",
      "0, 7\n",
      "0, 8\n",
      "0, 9\n",
      "1, 2\n",
      "1, 3\n",
      "1, 4\n",
      "1, 5\n",
      "1, 6\n",
      "1, 7\n",
      "1, 8\n",
      "1, 9\n",
      "2, 3\n",
      "2, 4\n",
      "2, 5\n",
      "2, 6\n",
      "2, 7\n",
      "2, 8\n",
      "2, 9\n",
      "3, 4\n",
      "3, 5\n",
      "3, 6\n",
      "3, 7\n",
      "3, 8\n",
      "3, 9\n",
      "4, 5\n",
      "4, 6\n",
      "4, 7\n",
      "4, 8\n",
      "4, 9\n",
      "5, 6\n",
      "5, 7\n",
      "5, 8\n",
      "5, 9\n",
      "6, 7\n",
      "6, 8\n",
      "6, 9\n",
      "7, 8\n",
      "7, 9\n",
      "8, 9\n"
     ]
    },
    {
     "name": "stderr",
     "output_type": "stream",
     "text": [
      "\n"
     ]
    }
   ],
   "source": [
    "num = 10\n",
    "total = (num - 1) * num // 2\n",
    "\n",
    "i, j = 0, 1\n",
    "for t in tqdm(range(total)):\n",
    "    print('{}, {}'.format(i, j))\n",
    "    if j < num - 1:\n",
    "        j += 1\n",
    "    else:\n",
    "        i += 1\n",
    "        j = i + 1"
   ]
  },
  {
   "cell_type": "code",
   "execution_count": null,
   "metadata": {},
   "outputs": [],
   "source": []
  }
 ],
 "metadata": {
  "kernelspec": {
   "display_name": "Python 3",
   "language": "python",
   "name": "python3"
  },
  "language_info": {
   "codemirror_mode": {
    "name": "ipython",
    "version": 3
   },
   "file_extension": ".py",
   "mimetype": "text/x-python",
   "name": "python",
   "nbconvert_exporter": "python",
   "pygments_lexer": "ipython3",
   "version": "3.6.1"
  }
 },
 "nbformat": 4,
 "nbformat_minor": 2
}
