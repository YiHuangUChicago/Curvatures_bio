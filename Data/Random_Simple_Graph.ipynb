{
 "cells": [
  {
   "cell_type": "code",
   "execution_count": 1,
   "metadata": {},
   "outputs": [],
   "source": [
    "import numpy as np\n",
    "import random\n",
    "import sys\n",
    "sys.path.append('../Util')\n",
    "sys.path.append('../Wasserstein')"
   ]
  },
  {
   "cell_type": "code",
   "execution_count": 3,
   "metadata": {},
   "outputs": [],
   "source": [
    "import Hypergraph as hg\n",
    "import Wasserstein_lp as wlp"
   ]
  },
  {
   "cell_type": "code",
   "execution_count": 4,
   "metadata": {},
   "outputs": [],
   "source": [
    "def random_simple_graph(num_vertices, p):\n",
    "    \"\"\"\n",
    "    Erdős–Rényi model\n",
    "    \"\"\"\n",
    "    \n",
    "    vertices = {i: [] for i in range(num_vertices)}\n",
    "    edges = []\n",
    "    for i in range(num_vertices):\n",
    "        for j in range(i + 1, num_vertices):\n",
    "            rnd = random.random()\n",
    "            if rnd < p:\n",
    "                vertices[i].append(j)\n",
    "                vertices[j].append(i)\n",
    "                edges.append([i, j])\n",
    "    \n",
    "    Graph = {'num_vertices': num_vertices, \n",
    "             'num_edges': len(edges), \n",
    "             'vertices': vertices, # dictionary of adjacency list\n",
    "             'edges': edges # list of edges (2-tuples in the form of list)\n",
    "            }\n",
    "    \n",
    "    return Graph\n",
    "    "
   ]
  },
  {
   "cell_type": "code",
   "execution_count": 5,
   "metadata": {},
   "outputs": [
    {
     "name": "stdout",
     "output_type": "stream",
     "text": [
      "num_vertices: 5\n",
      "\n",
      "num_edges: 8\n",
      "\n",
      "vertices: {0: [1, 2, 3, 4], 1: [0, 4], 2: [0, 3, 4], 3: [0, 2, 4], 4: [0, 1, 2, 3]}\n",
      "\n",
      "edges: [[0, 1], [0, 2], [0, 3], [0, 4], [1, 4], [2, 3], [2, 4], [3, 4]]\n",
      "\n"
     ]
    }
   ],
   "source": [
    "Graph = random_simple_graph(5, .5)\n",
    "for key, value in Graph.items():\n",
    "    print('{}: {}\\n'.format(key, value))"
   ]
  },
  {
   "cell_type": "code",
   "execution_count": 6,
   "metadata": {},
   "outputs": [
    {
     "name": "stdout",
     "output_type": "stream",
     "text": [
      "Connected? True\n",
      "Pairwise Distance = \n",
      "[[0. 1. 1. 1. 1.]\n",
      " [1. 0. 2. 2. 1.]\n",
      " [1. 2. 0. 1. 1.]\n",
      " [1. 2. 1. 0. 1.]\n",
      " [1. 1. 1. 1. 0.]]\n",
      "\n",
      "Conditional_probs = \n",
      "[[0.         0.25       0.25       0.25       0.25      ]\n",
      " [0.5        0.         0.         0.         0.5       ]\n",
      " [0.33333333 0.         0.         0.33333333 0.33333333]\n",
      " [0.33333333 0.         0.33333333 0.         0.33333333]\n",
      " [0.25       0.25       0.25       0.25       0.        ]]\n",
      "\n"
     ]
    }
   ],
   "source": [
    "connected, dist_matrix = hg.pairwise_distances(Graph['num_vertices'], Graph['edges'])\n",
    "print('Connected? {}'.format(connected))\n",
    "print('Pairwise Distance = \\n{}\\n'.format(dist_matrix))\n",
    "\n",
    "conditional_probs = hg.hypergraph_random_walk(Graph['num_vertices'], Graph['edges'], lazyness=0)\n",
    "print('Conditional_probs = \\n{}\\n'.format(conditional_probs))"
   ]
  },
  {
   "cell_type": "code",
   "execution_count": 7,
   "metadata": {},
   "outputs": [],
   "source": [
    "def zoom_in(edge, Graph, conditional_probs, dist_matrix):\n",
    "    center_1 = edge[0]\n",
    "    center_2 = edge[1]\n",
    "    nbh_1 = Graph['vertices'][center_1]\n",
    "    nbh_2 = Graph['vertices'][center_2]\n",
    "    \n",
    "    joint_nbh = sorted(list(set(nbh_1).union(set(nbh_2))))\n",
    "    joint_nbh_map = {}\n",
    "    for i in range(len(joint_nbh)):\n",
    "        joint_nbh_map[joint_nbh[i]] = i\n",
    "    \n",
    "    num_joint_nbhs = len(joint_nbh)\n",
    "    \n",
    "    prob_1 = np.zeros(num_joint_nbhs)\n",
    "    prob_2 = np.zeros(num_joint_nbhs)\n",
    "    \n",
    "    for vertex in nbh_1:\n",
    "        idx = joint_nbh_map[vertex]\n",
    "        prob_1[idx] = conditional_probs[center_1][vertex]\n",
    "    for vertex in nbh_2:\n",
    "        idx = joint_nbh_map[vertex]\n",
    "        prob_2[idx] = conditional_probs[center_2][vertex]\n",
    "    \n",
    "    return prob_1, prob_2, np.array(dist_matrix)[joint_nbh, : ][:, joint_nbh]  "
   ]
  },
  {
   "cell_type": "code",
   "execution_count": 17,
   "metadata": {},
   "outputs": [],
   "source": [
    "def Ricci(Graph, *, method='lp'):\n",
    "    if 'edge_weights' not in Graph.keys():\n",
    "        weights = np.ones(Graph['num_edges'])\n",
    "    else:\n",
    "        weights = Graph['edge_weights']\n",
    "    \n",
    "    connected, dist_matrix = hg.pairwise_distances(Graph['num_vertices'], Graph['edges'])\n",
    "    print('Connected? {}'.format(connected))\n",
    "    print('Pairwise Distance = \\n{}\\n'.format(dist_matrix))\n",
    "    \n",
    "    if not connected:\n",
    "        print('The graph is not connected!')\n",
    "    else:\n",
    "        conditional_probs = hg.hypergraph_random_walk(Graph['num_vertices'], Graph['edges'], lazyness=0)\n",
    "        print('Conditional_probs = \\n{}\\n'.format(conditional_probs))\n",
    "        \n",
    "    for edge, weight in zip(Graph['edges'], weights):\n",
    "        prob_1, prob_2, cost = zoom_in(edge, Graph, conditional_probs, dist_matrix)\n",
    "        \n",
    "        if method == 'cvx':\n",
    "            result = wlp.Wasserstein_dist_cvx(cost, prob_1, prob_2, 1)\n",
    "        else:\n",
    "            result = wlp.Wasserstein_dist_lp(cost, prob_1, prob_2).fun\n",
    "        \n",
    "        Ricci_cur = 1. - result / weight\n",
    "        print('{}:\\t{}'.format(edge, Ricci_cur))\n",
    "        "
   ]
  },
  {
   "cell_type": "code",
   "execution_count": 13,
   "metadata": {},
   "outputs": [
    {
     "name": "stdout",
     "output_type": "stream",
     "text": [
      "prob_1 = [0.   0.25 0.25 0.25 0.25]\n",
      "prob_2 = [0.5 0.  0.  0.  0.5]\n",
      "cost=\n",
      "[[0. 1. 1. 1. 1.]\n",
      " [1. 0. 2. 2. 1.]\n",
      " [1. 2. 0. 1. 1.]\n",
      " [1. 2. 1. 0. 1.]\n",
      " [1. 1. 1. 1. 0.]]\n"
     ]
    }
   ],
   "source": [
    "prob_1, prob_2, cost = zoom_in(Graph['edges'][0], Graph, conditional_probs, dist_matrix)\n",
    "print('prob_1 = {}\\nprob_2 = {}\\ncost=\\n{}'.format(prob_1, prob_2, cost))"
   ]
  },
  {
   "cell_type": "code",
   "execution_count": 14,
   "metadata": {},
   "outputs": [
    {
     "name": "stdout",
     "output_type": "stream",
     "text": [
      "0.7499373875573432\n"
     ]
    }
   ],
   "source": [
    "result = wlp.Wasserstein_dist_cvx(cost, prob_1, prob_2)\n",
    "print(result)"
   ]
  },
  {
   "cell_type": "code",
   "execution_count": 18,
   "metadata": {},
   "outputs": [
    {
     "name": "stdout",
     "output_type": "stream",
     "text": [
      "Connected? True\n",
      "Pairwise Distance = \n",
      "[[0. 1. 1. 1. 1.]\n",
      " [1. 0. 2. 2. 1.]\n",
      " [1. 2. 0. 1. 1.]\n",
      " [1. 2. 1. 0. 1.]\n",
      " [1. 1. 1. 1. 0.]]\n",
      "\n",
      "Conditional_probs = \n",
      "[[0.         0.25       0.25       0.25       0.25      ]\n",
      " [0.5        0.         0.         0.         0.5       ]\n",
      " [0.33333333 0.         0.         0.33333333 0.33333333]\n",
      " [0.33333333 0.         0.33333333 0.         0.33333333]\n",
      " [0.25       0.25       0.25       0.25       0.        ]]\n",
      "\n",
      "[0, 1]:\t0.25\n",
      "[0, 2]:\t0.4999999999999998\n",
      "[0, 3]:\t0.4999999999999999\n",
      "[0, 4]:\t0.75\n",
      "[1, 4]:\t0.25\n",
      "[2, 3]:\t0.6666666666666666\n",
      "[2, 4]:\t0.5000000000000002\n",
      "[3, 4]:\t0.5\n"
     ]
    }
   ],
   "source": [
    "Ricci(Graph, method='lp')"
   ]
  },
  {
   "cell_type": "code",
   "execution_count": null,
   "metadata": {},
   "outputs": [],
   "source": []
  }
 ],
 "metadata": {
  "kernelspec": {
   "display_name": "Python 3",
   "language": "python",
   "name": "python3"
  },
  "language_info": {
   "codemirror_mode": {
    "name": "ipython",
    "version": 3
   },
   "file_extension": ".py",
   "mimetype": "text/x-python",
   "name": "python",
   "nbconvert_exporter": "python",
   "pygments_lexer": "ipython3",
   "version": "3.6.5"
  }
 },
 "nbformat": 4,
 "nbformat_minor": 2
}
