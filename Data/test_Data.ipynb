{
 "cells": [
  {
   "cell_type": "markdown",
   "metadata": {},
   "source": [
    "## Tests of the functions defined in\n",
    "- Load_Hypergraph.py\n",
    "- Stochastic_Block_Model.py"
   ]
  },
  {
   "cell_type": "code",
   "execution_count": 2,
   "metadata": {},
   "outputs": [],
   "source": [
    "import Load_Hypergraph as lh\n",
    "import Stochastic_Block_Model as SBM"
   ]
  },
  {
   "cell_type": "code",
   "execution_count": 13,
   "metadata": {},
   "outputs": [],
   "source": [
    "Graph = lh.load_UCI_Zoo()\n",
    "# print('number of vertices = {}'.format(Graph['num_vertices']))\n",
    "# print('number of edges = {}'.format(Graph['num_edges']))\n",
    "# print('vertex_labels = {}'.format(Graph['vertex_labels']))\n",
    "# print('edge_names = {}'.format(Graph['edge_names']))"
   ]
  },
  {
   "cell_type": "code",
   "execution_count": 11,
   "metadata": {},
   "outputs": [],
   "source": [
    "Graph = lh.load_UCI_Congress()\n",
    "# print('number of vertices = {}'.format(Graph['num_vertices']))\n",
    "# print('number of edges = {}'.format(Graph['num_edges']))\n",
    "# print('vertex_labels = {}'.format(Graph['vertex_labels']))\n",
    "# print('edge_names = {}'.format(Graph['edge_names']))"
   ]
  },
  {
   "cell_type": "code",
   "execution_count": 12,
   "metadata": {},
   "outputs": [],
   "source": [
    "Graph = lh.load_UCI_Mushroom(200, 200)\n",
    "# print('number of vertices = {}'.format(Graph['num_vertices']))\n",
    "# print('number of edges = {}'.format(Graph['num_edges']))\n",
    "# print('vertex_labels = {}'.format(Graph['vertex_labels']))\n",
    "# print('edge_names = {}'.format(Graph['edge_names']))"
   ]
  },
  {
   "cell_type": "code",
   "execution_count": 28,
   "metadata": {},
   "outputs": [
    {
     "name": "stdout",
     "output_type": "stream",
     "text": [
      "[[0, 1, 2, 3, 4, 5, 6, 7, 8, 9, 10, 11, 12, 13, 14, 15, 16, 17, 18, 19, 20, 21, 22, 23, 24, 25, 26, 27, 28, 29, 30, 31, 32, 33, 34, 35, 36, 37, 38, 39, 40, 41, 42, 43, 44, 45, 46, 47, 48, 49], [50, 51, 52, 53, 54, 55, 56, 57, 58, 59, 60, 61, 62, 63, 64, 65, 66, 67, 68, 69, 70, 71, 72, 73, 74, 75, 76, 77, 78, 79, 80, 81, 82, 83, 84, 85, 86, 87, 88, 89, 90, 91, 92, 93, 94, 95, 96, 97, 98, 99]]\n"
     ]
    }
   ],
   "source": [
    "num_vertices = 100\n",
    "communities = SBM.generate_random_communities(num_vertices, num_communities=2)\n",
    "print(communities)"
   ]
  },
  {
   "cell_type": "code",
   "execution_count": 29,
   "metadata": {},
   "outputs": [
    {
     "name": "stdout",
     "output_type": "stream",
     "text": [
      "9989\n"
     ]
    }
   ],
   "source": [
    "p_1 = .1\n",
    "p_2 = .05\n",
    "edges = SBM.stochastic_block_model(communities, 3, [p_1, p_2])\n",
    "print(len(edges))"
   ]
  }
 ],
 "metadata": {
  "kernelspec": {
   "display_name": "Python 3",
   "language": "python",
   "name": "python3"
  },
  "language_info": {
   "codemirror_mode": {
    "name": "ipython",
    "version": 3
   },
   "file_extension": ".py",
   "mimetype": "text/x-python",
   "name": "python",
   "nbconvert_exporter": "python",
   "pygments_lexer": "ipython3",
   "version": "3.6.1"
  }
 },
 "nbformat": 4,
 "nbformat_minor": 2
}
