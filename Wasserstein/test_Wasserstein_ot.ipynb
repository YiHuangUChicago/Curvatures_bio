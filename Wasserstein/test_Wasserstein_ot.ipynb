{
 "cells": [
  {
   "cell_type": "code",
   "execution_count": 1,
   "metadata": {},
   "outputs": [],
   "source": [
    "import sys\n",
    "sys.path.append('../Data')\n",
    "sys.path.append('../Util')\n",
    "import Load_Hypergraph as lh\n",
    "import Hypergraph as hg\n",
    "import Random"
   ]
  },
  {
   "cell_type": "code",
   "execution_count": 2,
   "metadata": {},
   "outputs": [],
   "source": [
    "import numpy as np\n",
    "import numpy.linalg as LA"
   ]
  },
  {
   "cell_type": "markdown",
   "metadata": {},
   "source": [
    "## Wasserstein distance and barycenter with the POT pacakage"
   ]
  },
  {
   "cell_type": "code",
   "execution_count": 3,
   "metadata": {},
   "outputs": [],
   "source": [
    "import ot"
   ]
  },
  {
   "cell_type": "code",
   "execution_count": 10,
   "metadata": {},
   "outputs": [
    {
     "name": "stdout",
     "output_type": "stream",
     "text": [
      "num_vertices\n",
      "num_edges\n",
      "vertices\n",
      "edges\n",
      "vertex_labels\n",
      "edge_names\n"
     ]
    }
   ],
   "source": [
    "Graph = lh.load_UCI_Congress()\n",
    "for key in Graph.keys():\n",
    "    print(key)"
   ]
  },
  {
   "cell_type": "code",
   "execution_count": 4,
   "metadata": {},
   "outputs": [
    {
     "ename": "NameError",
     "evalue": "name 'vertex_dict' is not defined",
     "output_type": "error",
     "traceback": [
      "\u001b[0;31m---------------------------------------------------------------------------\u001b[0m",
      "\u001b[0;31mNameError\u001b[0m                                 Traceback (most recent call last)",
      "\u001b[0;32m<ipython-input-4-e6f96103b3fb>\u001b[0m in \u001b[0;36m<module>\u001b[0;34m()\u001b[0m\n\u001b[1;32m      2\u001b[0m \u001b[0;34m\u001b[0m\u001b[0m\n\u001b[1;32m      3\u001b[0m \u001b[0mtarget_labels\u001b[0m \u001b[0;34m=\u001b[0m \u001b[0;34m[\u001b[0m\u001b[0;34m]\u001b[0m\u001b[0;34m\u001b[0m\u001b[0m\n\u001b[0;32m----> 4\u001b[0;31m \u001b[0;32mfor\u001b[0m \u001b[0midx\u001b[0m\u001b[0;34m,\u001b[0m \u001b[0mvertex_map\u001b[0m \u001b[0;32min\u001b[0m \u001b[0mvertex_dict\u001b[0m\u001b[0;34m.\u001b[0m\u001b[0mitems\u001b[0m\u001b[0;34m(\u001b[0m\u001b[0;34m)\u001b[0m\u001b[0;34m:\u001b[0m\u001b[0;34m\u001b[0m\u001b[0m\n\u001b[0m\u001b[1;32m      5\u001b[0m     \u001b[0mparty\u001b[0m \u001b[0;34m=\u001b[0m \u001b[0mvertex_map\u001b[0m\u001b[0;34m[\u001b[0m\u001b[0;34m'class'\u001b[0m\u001b[0;34m]\u001b[0m\u001b[0;34m\u001b[0m\u001b[0m\n\u001b[1;32m      6\u001b[0m     \u001b[0mprint\u001b[0m\u001b[0;34m(\u001b[0m\u001b[0;34m'{}:\\t{}'\u001b[0m\u001b[0;34m.\u001b[0m\u001b[0mformat\u001b[0m\u001b[0;34m(\u001b[0m\u001b[0midx\u001b[0m\u001b[0;34m,\u001b[0m \u001b[0mparty\u001b[0m\u001b[0;34m)\u001b[0m\u001b[0;34m)\u001b[0m\u001b[0;34m\u001b[0m\u001b[0m\n",
      "\u001b[0;31mNameError\u001b[0m: name 'vertex_dict' is not defined"
     ]
    }
   ],
   "source": [
    "target_labels = []\n",
    "\n",
    "for idx, vertex_map in Graph['vertices'].items():\n",
    "    party = vertex_map['class']\n",
    "    print('{}:\\t{}'.format(idx, party))\n",
    "    if party == 'democrat':\n",
    "        target_labels.append(0)\n",
    "    else:\n",
    "        target_labels.append(1)\n",
    "\n",
    "edges = []\n",
    "for idx, edge in edge_dict.items():\n",
    "    edges.append(edge)\n",
    "\n",
    "num_vertices = len(target_labels)\n",
    "pw_dist_matrix = np.loadtxt('pw_dist_matrix_Congression')\n",
    "\n",
    "w_edge_weights = Wasserstein_edge_weights(num_vertices, edges, pw_dist_matrix, verbose=True)\n",
    "\n",
    "edge = edges[9]\n",
    "A = conditional_prob[edge, :].T\n",
    "barycenter, log_b = ot.bregman.barycenter(A, pw_dist_matrix, 0.1, log=True)\n",
    "print(barycenter.shape)\n",
    "print(log_b)\n",
    "for v in edge:\n",
    "    p = conditional_prob[v]\n",
    "    if (abs(p.sum() - 1.) > 1e-4) or (p.min() < 0):\n",
    "        print('\\tsum = {}, min = {}'.format(p.sum(), p.min()))\n",
    "\n",
    "    d = ot.sinkhorn2(p, barycenter, pw_dist_matrix, 0.01)\n",
    "    print(d)"
   ]
  },
  {
   "cell_type": "code",
   "execution_count": null,
   "metadata": {},
   "outputs": [],
   "source": []
  }
 ],
 "metadata": {
  "kernelspec": {
   "display_name": "Python 3",
   "language": "python",
   "name": "python3"
  },
  "language_info": {
   "codemirror_mode": {
    "name": "ipython",
    "version": 3
   },
   "file_extension": ".py",
   "mimetype": "text/x-python",
   "name": "python",
   "nbconvert_exporter": "python",
   "pygments_lexer": "ipython3",
   "version": "3.6.5"
  }
 },
 "nbformat": 4,
 "nbformat_minor": 2
}
