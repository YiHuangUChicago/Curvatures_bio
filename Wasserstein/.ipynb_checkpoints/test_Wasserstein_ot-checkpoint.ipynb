{
 "cells": [
  {
   "cell_type": "code",
   "execution_count": 1,
   "metadata": {},
   "outputs": [],
   "source": [
    "import sys\n",
    "sys.path.append('../Data')\n",
    "sys.path.append('../Util')\n",
    "import Load_Hypergraph as lh\n",
    "import Hypergraph as hg\n",
    "import Random"
   ]
  },
  {
   "cell_type": "code",
   "execution_count": 2,
   "metadata": {},
   "outputs": [],
   "source": [
    "import numpy as np\n",
    "import numpy.linalg as LA"
   ]
  },
  {
   "cell_type": "markdown",
   "metadata": {},
   "source": [
    "## Wasserstein for Gaussian"
   ]
  },
  {
   "cell_type": "code",
   "execution_count": 3,
   "metadata": {},
   "outputs": [],
   "source": [
    "import Wasserstein_Gaussian as wg"
   ]
  },
  {
   "cell_type": "markdown",
   "metadata": {},
   "source": [
    "### Test 1: Basic test"
   ]
  },
  {
   "cell_type": "code",
   "execution_count": 4,
   "metadata": {},
   "outputs": [
    {
     "name": "stdout",
     "output_type": "stream",
     "text": [
      "mu_1 = [-1.32337159  0.40303492]\n",
      "Sigma_1 =\n",
      "[[ 1.11192496 -0.2102142 ]\n",
      " [-0.2102142   1.76434324]]\n",
      "\n",
      "mu_2 = [0.57590376 0.72587146]\n",
      "Sigma_2 =\n",
      "[[ 1.73043609 -0.0258995 ]\n",
      " [-0.0258995   2.17064608]]\n",
      "\n",
      "distance from 1 to 2 = 1.9534348488981306\n",
      "distance from 2 to 1 = 1.9534348488981308\n",
      "\n",
      "mu of barycenter = [-0.37373391  0.56445319]\n",
      "Sigma of barycenter =\n",
      "[[ 1.40191444 -0.12605738]\n",
      " [-0.12605738  1.96065139]]\n"
     ]
    }
   ],
   "source": [
    "mu_1, Sigma_1 = Random.rand_Gaussian(2, 2., 1., 3.)\n",
    "mu_2, Sigma_2 = Random.rand_Gaussian(2, 2., 1., 3.)\n",
    "\n",
    "print('mu_1 = {}\\nSigma_1 =\\n{}\\n'.format(mu_1, Sigma_1))\n",
    "print('mu_2 = {}\\nSigma_2 =\\n{}\\n'.format(mu_2, Sigma_2))\n",
    "\n",
    "dist_12 = wg.Wasserstein_dist_Gaussian(mu_1, Sigma_1, mu_2, Sigma_2)\n",
    "dist_21 = wg.Wasserstein_dist_Gaussian(mu_2, Sigma_2, mu_1, Sigma_1)\n",
    "        \n",
    "print('distance from 1 to 2 = {}'.format(dist_12))\n",
    "print('distance from 2 to 1 = {}\\n'.format(dist_21))\n",
    "        \n",
    "mus = [mu_1, mu_2]\n",
    "Sigmas = [Sigma_1, Sigma_2]\n",
    "\n",
    "mu_c, Sigma_c = wg.Wasserstein_barycenter_Gaussian(mus, Sigmas)\n",
    "print('mu of barycenter = {}'.format(mu_c))\n",
    "print('Sigma of barycenter =\\n{}'.format(Sigma_c))"
   ]
  },
  {
   "cell_type": "markdown",
   "metadata": {},
   "source": [
    "### Test 2: The inverse cdf of the barycenter is the average of inverse cdfs for 1-dim'l Gaussian"
   ]
  },
  {
   "cell_type": "code",
   "execution_count": 5,
   "metadata": {},
   "outputs": [],
   "source": [
    "from scipy.stats import norm"
   ]
  },
  {
   "cell_type": "markdown",
   "metadata": {},
   "source": [
    "#### Test 2.1: two Gaussian distributions"
   ]
  },
  {
   "cell_type": "code",
   "execution_count": 6,
   "metadata": {},
   "outputs": [
    {
     "name": "stdout",
     "output_type": "stream",
     "text": [
      "mu_1 = -0.41976402834223414\tstd_1 = 0.7512225205074092\n",
      "mu_2 = 0.09876930246167848\tstd_2 = 0.6442062183351165\n",
      "Barycenter:\n",
      "mu = -0.16049736294027783\tstd = 0.697714369421263\n",
      "\n",
      "avg = -1.3081353740590018 \t target = -1.308135374059002\n",
      "avg = -1.054654305375061 \t target = -1.054654305375061\n",
      "avg = -0.8836318317380796 \t target = -0.8836318317380797\n",
      "avg = -0.747708591214149 \t target = -0.7477085912141491\n",
      "avg = -0.631098553679442 \t target = -0.6310985536794422\n",
      "avg = -0.5263791359885555 \t target = -0.5263791359885556\n",
      "avg = -0.42934098918494085 \t target = -0.4293409891849409\n",
      "avg = -0.33726127724937616 \t target = -0.33726127724937616\n",
      "avg = -0.2481730903218925 \t target = -0.2481730903218925\n",
      "avg = -0.16049736294027794 \t target = -0.16049736294027792\n",
      "avg = -0.07282163555866336 \t target = -0.07282163555866335\n",
      "avg = 0.01626655136882031 \t target = 0.016266551368820353\n",
      "avg = 0.10834626330438518 \t target = 0.10834626330438524\n",
      "avg = 0.2053844101079997 \t target = 0.20538441010799974\n",
      "avg = 0.3101038277988864 \t target = 0.3101038277988865\n",
      "avg = 0.42671386533359323 \t target = 0.42671386533359335\n",
      "avg = 0.5626371058575239 \t target = 0.562637105857524\n",
      "avg = 0.7336595794945052 \t target = 0.7336595794945053\n",
      "avg = 0.9871406481784457 \t target = 0.9871406481784458\n"
     ]
    }
   ],
   "source": [
    "mu_1, Sigma_1 = Random.rand_Gaussian(1, 1.)\n",
    "mu_2, Sigma_2 = Random.rand_Gaussian(1, 1.)\n",
    "mus = [mu_1, mu_2]\n",
    "Sigmas = [Sigma_1, Sigma_2]\n",
    "\n",
    "mu_c, Sigma_c = wg.Wasserstein_barycenter_Gaussian(mus, Sigmas)\n",
    "\n",
    "mu_1, mu_2, mu_c = mu_1[0], mu_2[0], mu_c[0]\n",
    "std_1, std_2, std_c = np.sqrt(Sigma_1[0][0]), np.sqrt(Sigma_2[0][0]), np.sqrt(Sigma_c[0][0])\n",
    "\n",
    "print(\"mu_1 = {}\\tstd_1 = {}\".format(mu_1, std_1))\n",
    "print(\"mu_2 = {}\\tstd_2 = {}\".format(mu_2, std_2))\n",
    "print('Barycenter:')\n",
    "print(\"mu = {}\\tstd = {}\\n\".format(mu_c, std_c))\n",
    "\n",
    "num_step = 20\n",
    "step_size = 1. / num_step\n",
    "for x in np.linspace(step_size, 1. - step_size, num_step - 1):\n",
    "    a_1 = norm.ppf(x, loc=mu_1, scale=std_1)\n",
    "    a_2 = norm.ppf(x, loc=mu_2, scale=std_2)\n",
    "    avg = (a_1 + a_2) / 2.\n",
    "    target = norm.ppf(x, loc=mu_c, scale=std_c)\n",
    "    print('avg = {} \\t target = {}'.format(avg, target))    "
   ]
  },
  {
   "cell_type": "markdown",
   "metadata": {},
   "source": [
    "#### Test 2.2: arbitrarily many Gaussian distributions"
   ]
  },
  {
   "cell_type": "code",
   "execution_count": 7,
   "metadata": {},
   "outputs": [
    {
     "name": "stdout",
     "output_type": "stream",
     "text": [
      "mu_0 = -0.2616153389599216\tstd_0 = 0.6442054105900872\n",
      "mu_1 = -0.11085478859358955\tstd_1 = 0.9248426149389147\n",
      "mu_2 = 0.8291665592742272\tstd_2 = 0.4127392688170239\n",
      "mu_3 = -0.4427838142654261\tstd_3 = 0.27275605354772026\n",
      "mu_4 = 0.1163054610275942\tstd_4 = 0.790821019162407\n",
      "Barycenter:\n",
      "mu = 0.026043615696576837\tstd = 0.6090728734112307\n",
      "\n",
      "avg = -0.9757921092116412 \t target = -0.9757921092116413\n",
      "avg = -0.754514678754334 \t target = -0.7545146787543341\n",
      "avg = -0.6052198469417469 \t target = -0.605219846941747\n",
      "avg = -0.4865650473595825 \t target = -0.48656504735958256\n",
      "avg = -0.3847697945417738 \t target = -0.3847697945417739\n",
      "avg = -0.2933545113968322 \t target = -0.2933545113968323\n",
      "avg = -0.20864462796243602 \t target = -0.20864462796243605\n",
      "avg = -0.12826323238075626 \t target = -0.12826323238075626\n",
      "avg = -0.05049330190916849 \t target = -0.0504933019091685\n",
      "avg = 0.026043615696576726 \t target = 0.026043615696576754\n",
      "avg = 0.10258053330232197 \t target = 0.102580533302322\n",
      "avg = 0.18035046377390976 \t target = 0.1803504637739098\n",
      "avg = 0.26073185935558973 \t target = 0.26073185935558973\n",
      "avg = 0.34544174278998574 \t target = 0.34544174278998574\n",
      "avg = 0.4368570259349275 \t target = 0.43685702593492753\n",
      "avg = 0.538652278752736 \t target = 0.5386522787527361\n",
      "avg = 0.6573070783349005 \t target = 0.6573070783349008\n",
      "avg = 0.8066019101474875 \t target = 0.8066019101474878\n",
      "avg = 1.0278793406047944 \t target = 1.0278793406047946\n"
     ]
    }
   ],
   "source": [
    "num_entries = 5\n",
    "mus = []\n",
    "Sigmas = []\n",
    "for i in range(num_entries):\n",
    "    mu, Sigma = Random.rand_Gaussian(1, 1.)\n",
    "    mus.append(mu)\n",
    "    Sigmas.append(Sigma)\n",
    "    print(\"mu_{} = {}\\tstd_{} = {}\".format(i, mu[0], i, np.sqrt(Sigma[0][0])))\n",
    "\n",
    "mu_c, Sigma_c = wg.Wasserstein_barycenter_Gaussian(mus, Sigmas)\n",
    "print('Barycenter:')\n",
    "print(\"mu = {}\\tstd = {}\\n\".format(mu_c[0], np.sqrt(Sigma_c[0][0])))\n",
    "\n",
    "mus = [mu[0] for mu in mus]\n",
    "stds = [np.sqrt(Sigma[0][0]) for Sigma in Sigmas]\n",
    "mu_c = mu_c[0]\n",
    "std_c = np.sqrt(Sigma_c[0][0])\n",
    "    \n",
    "num_step = 20\n",
    "step_size = 1. / num_step\n",
    "for x in np.linspace(step_size, 1. - step_size, num_step - 1):\n",
    "    avg = 0.\n",
    "    for mu, std in zip(mus, stds):\n",
    "        avg += norm.ppf(x, loc=mu, scale=std)\n",
    "    avg /= num_entries \n",
    "    target = norm.ppf(x, loc=mu_c, scale=std_c)\n",
    "    print('avg = {} \\t target = {}'.format(avg, target))"
   ]
  },
  {
   "cell_type": "markdown",
   "metadata": {},
   "source": [
    "## Wasserstein distance and barycenter with the POT pacakage"
   ]
  },
  {
   "cell_type": "code",
   "execution_count": 8,
   "metadata": {},
   "outputs": [],
   "source": [
    "import ot"
   ]
  },
  {
   "cell_type": "code",
   "execution_count": 9,
   "metadata": {},
   "outputs": [
    {
     "ename": "FileNotFoundError",
     "evalue": "File b'/home/Desktop/Curvatures/Data/Datasets/UCI_Congressional_Voting_Records.txt' does not exist",
     "output_type": "error",
     "traceback": [
      "\u001b[0;31m---------------------------------------------------------------------------\u001b[0m",
      "\u001b[0;31mFileNotFoundError\u001b[0m                         Traceback (most recent call last)",
      "\u001b[0;32m<ipython-input-9-e6f96103b3fb>\u001b[0m in \u001b[0;36m<module>\u001b[0;34m()\u001b[0m\n\u001b[0;32m----> 1\u001b[0;31m \u001b[0mGraph\u001b[0m \u001b[0;34m=\u001b[0m \u001b[0mlh\u001b[0m\u001b[0;34m.\u001b[0m\u001b[0mload_UCI_Congress\u001b[0m\u001b[0;34m(\u001b[0m\u001b[0;34m)\u001b[0m\u001b[0;34m\u001b[0m\u001b[0m\n\u001b[0m\u001b[1;32m      2\u001b[0m \u001b[0;34m\u001b[0m\u001b[0m\n\u001b[1;32m      3\u001b[0m \u001b[0mtarget_labels\u001b[0m \u001b[0;34m=\u001b[0m \u001b[0;34m[\u001b[0m\u001b[0;34m]\u001b[0m\u001b[0;34m\u001b[0m\u001b[0m\n\u001b[1;32m      4\u001b[0m \u001b[0;32mfor\u001b[0m \u001b[0midx\u001b[0m\u001b[0;34m,\u001b[0m \u001b[0mvertex_map\u001b[0m \u001b[0;32min\u001b[0m \u001b[0mvertex_dict\u001b[0m\u001b[0;34m.\u001b[0m\u001b[0mitems\u001b[0m\u001b[0;34m(\u001b[0m\u001b[0;34m)\u001b[0m\u001b[0;34m:\u001b[0m\u001b[0;34m\u001b[0m\u001b[0m\n\u001b[1;32m      5\u001b[0m     \u001b[0mparty\u001b[0m \u001b[0;34m=\u001b[0m \u001b[0mvertex_map\u001b[0m\u001b[0;34m[\u001b[0m\u001b[0;34m'class'\u001b[0m\u001b[0;34m]\u001b[0m\u001b[0;34m\u001b[0m\u001b[0m\n",
      "\u001b[0;32m~/Desktop/Curvatures/Data/Load_Hypergraph.py\u001b[0m in \u001b[0;36mload_UCI_Congress\u001b[0;34m()\u001b[0m\n\u001b[1;32m     60\u001b[0m \u001b[0;34m\u001b[0m\u001b[0m\n\u001b[1;32m     61\u001b[0m \u001b[0;32mdef\u001b[0m \u001b[0mload_UCI_Congress\u001b[0m\u001b[0;34m(\u001b[0m\u001b[0;34m)\u001b[0m\u001b[0;34m:\u001b[0m\u001b[0;34m\u001b[0m\u001b[0m\n\u001b[0;32m---> 62\u001b[0;31m         \u001b[0mdf\u001b[0m \u001b[0;34m=\u001b[0m \u001b[0mpd\u001b[0m\u001b[0;34m.\u001b[0m\u001b[0mread_csv\u001b[0m\u001b[0;34m(\u001b[0m\u001b[0;34m\"/home/Desktop/Curvatures/Data/Datasets/UCI_Congressional_Voting_Records.txt\"\u001b[0m\u001b[0;34m,\u001b[0m \u001b[0msep\u001b[0m\u001b[0;34m=\u001b[0m\u001b[0;34m','\u001b[0m\u001b[0;34m)\u001b[0m\u001b[0;34m\u001b[0m\u001b[0m\n\u001b[0m\u001b[1;32m     63\u001b[0m \tfeatures = [\\\n\u001b[1;32m     64\u001b[0m                 \u001b[0;34m'handicapped-infants'\u001b[0m\u001b[0;34m,\u001b[0m \u001b[0;34m'water-project-cost-sharing'\u001b[0m\u001b[0;34m,\u001b[0m\u001b[0;31m\\\u001b[0m\u001b[0;34m\u001b[0m\u001b[0m\n",
      "\u001b[0;32m/anaconda3/lib/python3.6/site-packages/pandas/io/parsers.py\u001b[0m in \u001b[0;36mparser_f\u001b[0;34m(filepath_or_buffer, sep, delimiter, header, names, index_col, usecols, squeeze, prefix, mangle_dupe_cols, dtype, engine, converters, true_values, false_values, skipinitialspace, skiprows, nrows, na_values, keep_default_na, na_filter, verbose, skip_blank_lines, parse_dates, infer_datetime_format, keep_date_col, date_parser, dayfirst, iterator, chunksize, compression, thousands, decimal, lineterminator, quotechar, quoting, escapechar, comment, encoding, dialect, tupleize_cols, error_bad_lines, warn_bad_lines, skipfooter, doublequote, delim_whitespace, low_memory, memory_map, float_precision)\u001b[0m\n\u001b[1;32m    676\u001b[0m                     skip_blank_lines=skip_blank_lines)\n\u001b[1;32m    677\u001b[0m \u001b[0;34m\u001b[0m\u001b[0m\n\u001b[0;32m--> 678\u001b[0;31m         \u001b[0;32mreturn\u001b[0m \u001b[0m_read\u001b[0m\u001b[0;34m(\u001b[0m\u001b[0mfilepath_or_buffer\u001b[0m\u001b[0;34m,\u001b[0m \u001b[0mkwds\u001b[0m\u001b[0;34m)\u001b[0m\u001b[0;34m\u001b[0m\u001b[0m\n\u001b[0m\u001b[1;32m    679\u001b[0m \u001b[0;34m\u001b[0m\u001b[0m\n\u001b[1;32m    680\u001b[0m     \u001b[0mparser_f\u001b[0m\u001b[0;34m.\u001b[0m\u001b[0m__name__\u001b[0m \u001b[0;34m=\u001b[0m \u001b[0mname\u001b[0m\u001b[0;34m\u001b[0m\u001b[0m\n",
      "\u001b[0;32m/anaconda3/lib/python3.6/site-packages/pandas/io/parsers.py\u001b[0m in \u001b[0;36m_read\u001b[0;34m(filepath_or_buffer, kwds)\u001b[0m\n\u001b[1;32m    438\u001b[0m \u001b[0;34m\u001b[0m\u001b[0m\n\u001b[1;32m    439\u001b[0m     \u001b[0;31m# Create the parser.\u001b[0m\u001b[0;34m\u001b[0m\u001b[0;34m\u001b[0m\u001b[0m\n\u001b[0;32m--> 440\u001b[0;31m     \u001b[0mparser\u001b[0m \u001b[0;34m=\u001b[0m \u001b[0mTextFileReader\u001b[0m\u001b[0;34m(\u001b[0m\u001b[0mfilepath_or_buffer\u001b[0m\u001b[0;34m,\u001b[0m \u001b[0;34m**\u001b[0m\u001b[0mkwds\u001b[0m\u001b[0;34m)\u001b[0m\u001b[0;34m\u001b[0m\u001b[0m\n\u001b[0m\u001b[1;32m    441\u001b[0m \u001b[0;34m\u001b[0m\u001b[0m\n\u001b[1;32m    442\u001b[0m     \u001b[0;32mif\u001b[0m \u001b[0mchunksize\u001b[0m \u001b[0;32mor\u001b[0m \u001b[0miterator\u001b[0m\u001b[0;34m:\u001b[0m\u001b[0;34m\u001b[0m\u001b[0m\n",
      "\u001b[0;32m/anaconda3/lib/python3.6/site-packages/pandas/io/parsers.py\u001b[0m in \u001b[0;36m__init__\u001b[0;34m(self, f, engine, **kwds)\u001b[0m\n\u001b[1;32m    785\u001b[0m             \u001b[0mself\u001b[0m\u001b[0;34m.\u001b[0m\u001b[0moptions\u001b[0m\u001b[0;34m[\u001b[0m\u001b[0;34m'has_index_names'\u001b[0m\u001b[0;34m]\u001b[0m \u001b[0;34m=\u001b[0m \u001b[0mkwds\u001b[0m\u001b[0;34m[\u001b[0m\u001b[0;34m'has_index_names'\u001b[0m\u001b[0;34m]\u001b[0m\u001b[0;34m\u001b[0m\u001b[0m\n\u001b[1;32m    786\u001b[0m \u001b[0;34m\u001b[0m\u001b[0m\n\u001b[0;32m--> 787\u001b[0;31m         \u001b[0mself\u001b[0m\u001b[0;34m.\u001b[0m\u001b[0m_make_engine\u001b[0m\u001b[0;34m(\u001b[0m\u001b[0mself\u001b[0m\u001b[0;34m.\u001b[0m\u001b[0mengine\u001b[0m\u001b[0;34m)\u001b[0m\u001b[0;34m\u001b[0m\u001b[0m\n\u001b[0m\u001b[1;32m    788\u001b[0m \u001b[0;34m\u001b[0m\u001b[0m\n\u001b[1;32m    789\u001b[0m     \u001b[0;32mdef\u001b[0m \u001b[0mclose\u001b[0m\u001b[0;34m(\u001b[0m\u001b[0mself\u001b[0m\u001b[0;34m)\u001b[0m\u001b[0;34m:\u001b[0m\u001b[0;34m\u001b[0m\u001b[0m\n",
      "\u001b[0;32m/anaconda3/lib/python3.6/site-packages/pandas/io/parsers.py\u001b[0m in \u001b[0;36m_make_engine\u001b[0;34m(self, engine)\u001b[0m\n\u001b[1;32m   1012\u001b[0m     \u001b[0;32mdef\u001b[0m \u001b[0m_make_engine\u001b[0m\u001b[0;34m(\u001b[0m\u001b[0mself\u001b[0m\u001b[0;34m,\u001b[0m \u001b[0mengine\u001b[0m\u001b[0;34m=\u001b[0m\u001b[0;34m'c'\u001b[0m\u001b[0;34m)\u001b[0m\u001b[0;34m:\u001b[0m\u001b[0;34m\u001b[0m\u001b[0m\n\u001b[1;32m   1013\u001b[0m         \u001b[0;32mif\u001b[0m \u001b[0mengine\u001b[0m \u001b[0;34m==\u001b[0m \u001b[0;34m'c'\u001b[0m\u001b[0;34m:\u001b[0m\u001b[0;34m\u001b[0m\u001b[0m\n\u001b[0;32m-> 1014\u001b[0;31m             \u001b[0mself\u001b[0m\u001b[0;34m.\u001b[0m\u001b[0m_engine\u001b[0m \u001b[0;34m=\u001b[0m \u001b[0mCParserWrapper\u001b[0m\u001b[0;34m(\u001b[0m\u001b[0mself\u001b[0m\u001b[0;34m.\u001b[0m\u001b[0mf\u001b[0m\u001b[0;34m,\u001b[0m \u001b[0;34m**\u001b[0m\u001b[0mself\u001b[0m\u001b[0;34m.\u001b[0m\u001b[0moptions\u001b[0m\u001b[0;34m)\u001b[0m\u001b[0;34m\u001b[0m\u001b[0m\n\u001b[0m\u001b[1;32m   1015\u001b[0m         \u001b[0;32melse\u001b[0m\u001b[0;34m:\u001b[0m\u001b[0;34m\u001b[0m\u001b[0m\n\u001b[1;32m   1016\u001b[0m             \u001b[0;32mif\u001b[0m \u001b[0mengine\u001b[0m \u001b[0;34m==\u001b[0m \u001b[0;34m'python'\u001b[0m\u001b[0;34m:\u001b[0m\u001b[0;34m\u001b[0m\u001b[0m\n",
      "\u001b[0;32m/anaconda3/lib/python3.6/site-packages/pandas/io/parsers.py\u001b[0m in \u001b[0;36m__init__\u001b[0;34m(self, src, **kwds)\u001b[0m\n\u001b[1;32m   1706\u001b[0m         \u001b[0mkwds\u001b[0m\u001b[0;34m[\u001b[0m\u001b[0;34m'usecols'\u001b[0m\u001b[0;34m]\u001b[0m \u001b[0;34m=\u001b[0m \u001b[0mself\u001b[0m\u001b[0;34m.\u001b[0m\u001b[0musecols\u001b[0m\u001b[0;34m\u001b[0m\u001b[0m\n\u001b[1;32m   1707\u001b[0m \u001b[0;34m\u001b[0m\u001b[0m\n\u001b[0;32m-> 1708\u001b[0;31m         \u001b[0mself\u001b[0m\u001b[0;34m.\u001b[0m\u001b[0m_reader\u001b[0m \u001b[0;34m=\u001b[0m \u001b[0mparsers\u001b[0m\u001b[0;34m.\u001b[0m\u001b[0mTextReader\u001b[0m\u001b[0;34m(\u001b[0m\u001b[0msrc\u001b[0m\u001b[0;34m,\u001b[0m \u001b[0;34m**\u001b[0m\u001b[0mkwds\u001b[0m\u001b[0;34m)\u001b[0m\u001b[0;34m\u001b[0m\u001b[0m\n\u001b[0m\u001b[1;32m   1709\u001b[0m \u001b[0;34m\u001b[0m\u001b[0m\n\u001b[1;32m   1710\u001b[0m         \u001b[0mpassed_names\u001b[0m \u001b[0;34m=\u001b[0m \u001b[0mself\u001b[0m\u001b[0;34m.\u001b[0m\u001b[0mnames\u001b[0m \u001b[0;32mis\u001b[0m \u001b[0;32mNone\u001b[0m\u001b[0;34m\u001b[0m\u001b[0m\n",
      "\u001b[0;32mpandas/_libs/parsers.pyx\u001b[0m in \u001b[0;36mpandas._libs.parsers.TextReader.__cinit__\u001b[0;34m()\u001b[0m\n",
      "\u001b[0;32mpandas/_libs/parsers.pyx\u001b[0m in \u001b[0;36mpandas._libs.parsers.TextReader._setup_parser_source\u001b[0;34m()\u001b[0m\n",
      "\u001b[0;31mFileNotFoundError\u001b[0m: File b'/home/Desktop/Curvatures/Data/Datasets/UCI_Congressional_Voting_Records.txt' does not exist"
     ]
    }
   ],
   "source": [
    "Graph = lh.load_UCI_Congress()\n",
    "\n",
    "target_labels = []\n",
    "for idx, vertex_map in vertex_dict.items():\n",
    "    party = vertex_map['class']\n",
    "    print('{}:\\t{}'.format(idx, party))\n",
    "    if party == 'democrat':\n",
    "        target_labels.append(0)\n",
    "    else:\n",
    "        target_labels.append(1)\n",
    "\n",
    "edges = []\n",
    "for idx, edge in edge_dict.items():\n",
    "    edges.append(edge)\n",
    "\n",
    "num_vertices = len(target_labels)\n",
    "pw_dist_matrix = np.loadtxt('pw_dist_matrix_Congression')\n",
    "\n",
    "w_edge_weights = Wasserstein_edge_weights(num_vertices, edges, pw_dist_matrix, verbose=True)\n",
    "\n",
    "edge = edges[9]\n",
    "A = conditional_prob[edge, :].T\n",
    "barycenter, log_b = ot.bregman.barycenter(A, pw_dist_matrix, 0.1, log=True)\n",
    "print(barycenter.shape)\n",
    "print(log_b)\n",
    "for v in edge:\n",
    "    p = conditional_prob[v]\n",
    "    if (abs(p.sum() - 1.) > 1e-4) or (p.min() < 0):\n",
    "        print('\\tsum = {}, min = {}'.format(p.sum(), p.min()))\n",
    "\n",
    "    d = ot.sinkhorn2(p, barycenter, pw_dist_matrix, 0.01)\n",
    "    print(d)"
   ]
  },
  {
   "cell_type": "markdown",
   "metadata": {},
   "source": [
    "## Wasserstein distance with numpy.optimize.linprog and CVXPY"
   ]
  },
  {
   "cell_type": "code",
   "execution_count": null,
   "metadata": {},
   "outputs": [],
   "source": [
    "import Wasserstein_lp as wlp"
   ]
  },
  {
   "cell_type": "code",
   "execution_count": null,
   "metadata": {},
   "outputs": [],
   "source": []
  }
 ],
 "metadata": {
  "kernelspec": {
   "display_name": "Python 3",
   "language": "python",
   "name": "python3"
  },
  "language_info": {
   "codemirror_mode": {
    "name": "ipython",
    "version": 3
   },
   "file_extension": ".py",
   "mimetype": "text/x-python",
   "name": "python",
   "nbconvert_exporter": "python",
   "pygments_lexer": "ipython3",
   "version": "3.6.5"
  }
 },
 "nbformat": 4,
 "nbformat_minor": 2
}
