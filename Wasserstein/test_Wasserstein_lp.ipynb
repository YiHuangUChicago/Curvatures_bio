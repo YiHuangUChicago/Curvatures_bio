{
 "cells": [
  {
   "cell_type": "code",
   "execution_count": 10,
   "metadata": {},
   "outputs": [],
   "source": [
    "import sys\n",
    "sys.path.append('../Data')\n",
    "sys.path.append('../Util')\n",
    "import Load_Hypergraph as lh\n",
    "import Hypergraph as hg\n",
    "import Random"
   ]
  },
  {
   "cell_type": "code",
   "execution_count": 11,
   "metadata": {},
   "outputs": [],
   "source": [
    "import numpy as np\n",
    "import numpy.linalg as LA"
   ]
  },
  {
   "cell_type": "markdown",
   "metadata": {},
   "source": [
    "## Wasserstein for Gaussian"
   ]
  },
  {
   "cell_type": "code",
   "execution_count": 12,
   "metadata": {},
   "outputs": [],
   "source": [
    "import Wasserstein_Gaussian as wg"
   ]
  },
  {
   "cell_type": "markdown",
   "metadata": {},
   "source": [
    "### Test 1: Basic test"
   ]
  },
  {
   "cell_type": "code",
   "execution_count": 13,
   "metadata": {},
   "outputs": [
    {
     "name": "stdout",
     "output_type": "stream",
     "text": [
      "mu_1 = [ 1.79006476 -0.26635168]\n",
      "Sigma_1 =\n",
      "[[2.1327125  0.71217752]\n",
      " [0.71217752 1.92564481]]\n",
      "\n",
      "mu_2 = [-0.29660776 -1.69524629]\n",
      "Sigma_2 =\n",
      "[[ 2.68906843 -0.07528343]\n",
      " [-0.07528343  2.330292  ]]\n",
      "\n",
      "distance from 1 to 2 = 2.5723777080488266\n",
      "distance from 2 to 1 = 2.572377708048827\n",
      "\n",
      "mu of barycenter = [ 0.7467285  -0.98079898]\n",
      "Sigma of barycenter =\n",
      "[[2.38295094 0.34378494]\n",
      " [0.34378494 2.10061166]]\n"
     ]
    }
   ],
   "source": [
    "mu_1, Sigma_1 = Random.rand_Gaussian(2, 2., 1., 3.)\n",
    "mu_2, Sigma_2 = Random.rand_Gaussian(2, 2., 1., 3.)\n",
    "\n",
    "print('mu_1 = {}\\nSigma_1 =\\n{}\\n'.format(mu_1, Sigma_1))\n",
    "print('mu_2 = {}\\nSigma_2 =\\n{}\\n'.format(mu_2, Sigma_2))\n",
    "\n",
    "dist_12 = wg.Wasserstein_dist_Gaussian(mu_1, Sigma_1, mu_2, Sigma_2)\n",
    "dist_21 = wg.Wasserstein_dist_Gaussian(mu_2, Sigma_2, mu_1, Sigma_1)\n",
    "        \n",
    "print('distance from 1 to 2 = {}'.format(dist_12))\n",
    "print('distance from 2 to 1 = {}\\n'.format(dist_21))\n",
    "        \n",
    "mus = [mu_1, mu_2]\n",
    "Sigmas = [Sigma_1, Sigma_2]\n",
    "\n",
    "mu_c, Sigma_c = wg.Wasserstein_barycenter_Gaussian(mus, Sigmas)\n",
    "print('mu of barycenter = {}'.format(mu_c))\n",
    "print('Sigma of barycenter =\\n{}'.format(Sigma_c))"
   ]
  },
  {
   "cell_type": "markdown",
   "metadata": {},
   "source": [
    "### Test 2: The inverse cdf of the barycenter is the average of inverse cdfs for 1-dim'l Gaussian"
   ]
  },
  {
   "cell_type": "code",
   "execution_count": 14,
   "metadata": {},
   "outputs": [],
   "source": [
    "from scipy.stats import norm"
   ]
  },
  {
   "cell_type": "markdown",
   "metadata": {},
   "source": [
    "#### Test 2.1: two Gaussian distributions"
   ]
  },
  {
   "cell_type": "code",
   "execution_count": 15,
   "metadata": {},
   "outputs": [
    {
     "name": "stdout",
     "output_type": "stream",
     "text": [
      "mu_1 = 0.8760159865390862\tstd_1 = 0.6582076917583841\n",
      "mu_2 = 0.8154689074584354\tstd_2 = 0.7473167588656556\n",
      "Barycenter:\n",
      "mu = 0.8457424469987608\tstd = 0.7027622253120198\n",
      "\n",
      "avg = -0.3101985481902033 \t target = -0.3101985481902031\n",
      "avg = -0.05488358305546548 \t target = -0.05488358305546537\n",
      "avg = 0.11737621181042562 \t target = 0.11737621181042568\n",
      "avg = 0.25428283602321233 \t target = 0.25428283602321244\n",
      "avg = 0.371736529200814 \t target = 0.37173652920081407\n",
      "avg = 0.4772135757332938 \t target = 0.4772135757332938\n",
      "avg = 0.5749537785679131 \t target = 0.5749537785679131\n",
      "avg = 0.6676996730226923 \t target = 0.6676996730226922\n",
      "avg = 0.7574323992471832 \t target = 0.7574323992471833\n",
      "avg = 0.8457424469987607 \t target = 0.8457424469987607\n",
      "avg = 0.9340524947503381 \t target = 0.9340524947503381\n",
      "avg = 1.0237852209748293 \t target = 1.0237852209748293\n",
      "avg = 1.1165311154296085 \t target = 1.1165311154296085\n",
      "avg = 1.2142713182642275 \t target = 1.2142713182642275\n",
      "avg = 1.3197483647967077 \t target = 1.3197483647967074\n",
      "avg = 1.437202057974309 \t target = 1.437202057974309\n",
      "avg = 1.574108682187096 \t target = 1.574108682187096\n",
      "avg = 1.746368477052987 \t target = 1.7463684770529868\n",
      "avg = 2.0016834421877245 \t target = 2.001683442187724\n"
     ]
    }
   ],
   "source": [
    "mu_1, Sigma_1 = Random.rand_Gaussian(1, 1.)\n",
    "mu_2, Sigma_2 = Random.rand_Gaussian(1, 1.)\n",
    "mus = [mu_1, mu_2]\n",
    "Sigmas = [Sigma_1, Sigma_2]\n",
    "\n",
    "mu_c, Sigma_c = wg.Wasserstein_barycenter_Gaussian(mus, Sigmas)\n",
    "\n",
    "mu_1, mu_2, mu_c = mu_1[0], mu_2[0], mu_c[0]\n",
    "std_1, std_2, std_c = np.sqrt(Sigma_1[0][0]), np.sqrt(Sigma_2[0][0]), np.sqrt(Sigma_c[0][0])\n",
    "\n",
    "print(\"mu_1 = {}\\tstd_1 = {}\".format(mu_1, std_1))\n",
    "print(\"mu_2 = {}\\tstd_2 = {}\".format(mu_2, std_2))\n",
    "print('Barycenter:')\n",
    "print(\"mu = {}\\tstd = {}\\n\".format(mu_c, std_c))\n",
    "\n",
    "num_step = 20\n",
    "step_size = 1. / num_step\n",
    "for x in np.linspace(step_size, 1. - step_size, num_step - 1):\n",
    "    a_1 = norm.ppf(x, loc=mu_1, scale=std_1)\n",
    "    a_2 = norm.ppf(x, loc=mu_2, scale=std_2)\n",
    "    avg = (a_1 + a_2) / 2.\n",
    "    target = norm.ppf(x, loc=mu_c, scale=std_c)\n",
    "    print('avg = {} \\t target = {}'.format(avg, target))    "
   ]
  },
  {
   "cell_type": "markdown",
   "metadata": {},
   "source": [
    "#### Test 2.2: arbitrarily many Gaussian distributions"
   ]
  },
  {
   "cell_type": "code",
   "execution_count": 16,
   "metadata": {},
   "outputs": [
    {
     "name": "stdout",
     "output_type": "stream",
     "text": [
      "mu_0 = -0.5582420763828546\tstd_0 = 0.8985804886190741\n",
      "mu_1 = -0.16719188446862399\tstd_1 = 0.9513119352906851\n",
      "mu_2 = 0.2975120496451571\tstd_2 = 0.8927140798215805\n",
      "mu_3 = 0.9948237099372956\tstd_3 = 0.42831701540628725\n",
      "mu_4 = 0.04571033419182946\tstd_4 = 0.9824625120764904\n",
      "Barycenter:\n",
      "mu = 0.12252242658456071\tstd = 0.8306772062428236\n",
      "\n",
      "avg = -1.2438199889298638 \t target = -1.2438199889298642\n",
      "avg = -0.9420332475381447 \t target = -0.9420332475381447\n",
      "avg = -0.7384191658569208 \t target = -0.7384191658569209\n",
      "avg = -0.5765931484344264 \t target = -0.5765931484344266\n",
      "avg = -0.4377608347477403 \t target = -0.4377608347477404\n",
      "avg = -0.31308512626405893 \t target = -0.31308512626405904\n",
      "avg = -0.19755450195905938 \t target = -0.19755450195905944\n",
      "avg = -0.08792723725799798 \t target = -0.08792723725799807\n",
      "avg = 0.0181384100462773 \t target = 0.01813841004627728\n",
      "avg = 0.12252242658456061 \t target = 0.1225224265845606\n",
      "avg = 0.2269064431228439 \t target = 0.22690644312284391\n",
      "avg = 0.3329720904271193 \t target = 0.33297209042711934\n",
      "avg = 0.44259935512818077 \t target = 0.4425993551281808\n",
      "avg = 0.5581299794331802 \t target = 0.5581299794331802\n",
      "avg = 0.6828056879168618 \t target = 0.6828056879168618\n",
      "avg = 0.8216380016035476 \t target = 0.8216380016035477\n",
      "avg = 0.9834640190260421 \t target = 0.9834640190260423\n",
      "avg = 1.187078100707266 \t target = 1.1870781007072662\n",
      "avg = 1.488864842098985 \t target = 1.4888648420989854\n"
     ]
    }
   ],
   "source": [
    "num_entries = 5\n",
    "mus = []\n",
    "Sigmas = []\n",
    "for i in range(num_entries):\n",
    "    mu, Sigma = Random.rand_Gaussian(1, 1.)\n",
    "    mus.append(mu)\n",
    "    Sigmas.append(Sigma)\n",
    "    print(\"mu_{} = {}\\tstd_{} = {}\".format(i, mu[0], i, np.sqrt(Sigma[0][0])))\n",
    "\n",
    "mu_c, Sigma_c = wg.Wasserstein_barycenter_Gaussian(mus, Sigmas)\n",
    "print('Barycenter:')\n",
    "print(\"mu = {}\\tstd = {}\\n\".format(mu_c[0], np.sqrt(Sigma_c[0][0])))\n",
    "\n",
    "mus = [mu[0] for mu in mus]\n",
    "stds = [np.sqrt(Sigma[0][0]) for Sigma in Sigmas]\n",
    "mu_c = mu_c[0]\n",
    "std_c = np.sqrt(Sigma_c[0][0])\n",
    "    \n",
    "num_step = 20\n",
    "step_size = 1. / num_step\n",
    "for x in np.linspace(step_size, 1. - step_size, num_step - 1):\n",
    "    avg = 0.\n",
    "    for mu, std in zip(mus, stds):\n",
    "        avg += norm.ppf(x, loc=mu, scale=std)\n",
    "    avg /= num_entries \n",
    "    target = norm.ppf(x, loc=mu_c, scale=std_c)\n",
    "    print('avg = {} \\t target = {}'.format(avg, target))"
   ]
  },
  {
   "cell_type": "markdown",
   "metadata": {},
   "source": [
    "## Wasserstein distance and barycenter with the POT pacakage"
   ]
  },
  {
   "cell_type": "code",
   "execution_count": 17,
   "metadata": {},
   "outputs": [],
   "source": [
    "import ot"
   ]
  },
  {
   "cell_type": "code",
   "execution_count": 18,
   "metadata": {},
   "outputs": [
    {
     "ename": "FileNotFoundError",
     "evalue": "File b'/home/Desktop/Curvatures/Data/Datasets/UCI_Congressional_Voting_Records.txt' does not exist",
     "output_type": "error",
     "traceback": [
      "\u001b[0;31m---------------------------------------------------------------------------\u001b[0m",
      "\u001b[0;31mFileNotFoundError\u001b[0m                         Traceback (most recent call last)",
      "\u001b[0;32m<ipython-input-18-e6f96103b3fb>\u001b[0m in \u001b[0;36m<module>\u001b[0;34m()\u001b[0m\n\u001b[0;32m----> 1\u001b[0;31m \u001b[0mGraph\u001b[0m \u001b[0;34m=\u001b[0m \u001b[0mlh\u001b[0m\u001b[0;34m.\u001b[0m\u001b[0mload_UCI_Congress\u001b[0m\u001b[0;34m(\u001b[0m\u001b[0;34m)\u001b[0m\u001b[0;34m\u001b[0m\u001b[0m\n\u001b[0m\u001b[1;32m      2\u001b[0m \u001b[0;34m\u001b[0m\u001b[0m\n\u001b[1;32m      3\u001b[0m \u001b[0mtarget_labels\u001b[0m \u001b[0;34m=\u001b[0m \u001b[0;34m[\u001b[0m\u001b[0;34m]\u001b[0m\u001b[0;34m\u001b[0m\u001b[0m\n\u001b[1;32m      4\u001b[0m \u001b[0;32mfor\u001b[0m \u001b[0midx\u001b[0m\u001b[0;34m,\u001b[0m \u001b[0mvertex_map\u001b[0m \u001b[0;32min\u001b[0m \u001b[0mvertex_dict\u001b[0m\u001b[0;34m.\u001b[0m\u001b[0mitems\u001b[0m\u001b[0;34m(\u001b[0m\u001b[0;34m)\u001b[0m\u001b[0;34m:\u001b[0m\u001b[0;34m\u001b[0m\u001b[0m\n\u001b[1;32m      5\u001b[0m     \u001b[0mparty\u001b[0m \u001b[0;34m=\u001b[0m \u001b[0mvertex_map\u001b[0m\u001b[0;34m[\u001b[0m\u001b[0;34m'class'\u001b[0m\u001b[0;34m]\u001b[0m\u001b[0;34m\u001b[0m\u001b[0m\n",
      "\u001b[0;32m~/Desktop/Curvatures/Data/Load_Hypergraph.py\u001b[0m in \u001b[0;36mload_UCI_Congress\u001b[0;34m()\u001b[0m\n\u001b[1;32m     60\u001b[0m \u001b[0;34m\u001b[0m\u001b[0m\n\u001b[1;32m     61\u001b[0m \u001b[0;32mdef\u001b[0m \u001b[0mload_UCI_Congress\u001b[0m\u001b[0;34m(\u001b[0m\u001b[0;34m)\u001b[0m\u001b[0;34m:\u001b[0m\u001b[0;34m\u001b[0m\u001b[0m\n\u001b[0;32m---> 62\u001b[0;31m         \u001b[0mdf\u001b[0m \u001b[0;34m=\u001b[0m \u001b[0mpd\u001b[0m\u001b[0;34m.\u001b[0m\u001b[0mread_csv\u001b[0m\u001b[0;34m(\u001b[0m\u001b[0;34m\"~/Desktop/Curvatures/Data/Datasets/UCI_Congressional_Voting_Records.txt\"\u001b[0m\u001b[0;34m,\u001b[0m \u001b[0msep\u001b[0m\u001b[0;34m=\u001b[0m\u001b[0;34m','\u001b[0m\u001b[0;34m)\u001b[0m\u001b[0;34m\u001b[0m\u001b[0m\n\u001b[0m\u001b[1;32m     63\u001b[0m \tfeatures = [\\\n\u001b[1;32m     64\u001b[0m                 \u001b[0;34m'handicapped-infants'\u001b[0m\u001b[0;34m,\u001b[0m \u001b[0;34m'water-project-cost-sharing'\u001b[0m\u001b[0;34m,\u001b[0m\u001b[0;31m\\\u001b[0m\u001b[0;34m\u001b[0m\u001b[0m\n",
      "\u001b[0;32m/anaconda3/lib/python3.6/site-packages/pandas/io/parsers.py\u001b[0m in \u001b[0;36mparser_f\u001b[0;34m(filepath_or_buffer, sep, delimiter, header, names, index_col, usecols, squeeze, prefix, mangle_dupe_cols, dtype, engine, converters, true_values, false_values, skipinitialspace, skiprows, nrows, na_values, keep_default_na, na_filter, verbose, skip_blank_lines, parse_dates, infer_datetime_format, keep_date_col, date_parser, dayfirst, iterator, chunksize, compression, thousands, decimal, lineterminator, quotechar, quoting, escapechar, comment, encoding, dialect, tupleize_cols, error_bad_lines, warn_bad_lines, skipfooter, doublequote, delim_whitespace, low_memory, memory_map, float_precision)\u001b[0m\n\u001b[1;32m    676\u001b[0m                     skip_blank_lines=skip_blank_lines)\n\u001b[1;32m    677\u001b[0m \u001b[0;34m\u001b[0m\u001b[0m\n\u001b[0;32m--> 678\u001b[0;31m         \u001b[0;32mreturn\u001b[0m \u001b[0m_read\u001b[0m\u001b[0;34m(\u001b[0m\u001b[0mfilepath_or_buffer\u001b[0m\u001b[0;34m,\u001b[0m \u001b[0mkwds\u001b[0m\u001b[0;34m)\u001b[0m\u001b[0;34m\u001b[0m\u001b[0m\n\u001b[0m\u001b[1;32m    679\u001b[0m \u001b[0;34m\u001b[0m\u001b[0m\n\u001b[1;32m    680\u001b[0m     \u001b[0mparser_f\u001b[0m\u001b[0;34m.\u001b[0m\u001b[0m__name__\u001b[0m \u001b[0;34m=\u001b[0m \u001b[0mname\u001b[0m\u001b[0;34m\u001b[0m\u001b[0m\n",
      "\u001b[0;32m/anaconda3/lib/python3.6/site-packages/pandas/io/parsers.py\u001b[0m in \u001b[0;36m_read\u001b[0;34m(filepath_or_buffer, kwds)\u001b[0m\n\u001b[1;32m    438\u001b[0m \u001b[0;34m\u001b[0m\u001b[0m\n\u001b[1;32m    439\u001b[0m     \u001b[0;31m# Create the parser.\u001b[0m\u001b[0;34m\u001b[0m\u001b[0;34m\u001b[0m\u001b[0m\n\u001b[0;32m--> 440\u001b[0;31m     \u001b[0mparser\u001b[0m \u001b[0;34m=\u001b[0m \u001b[0mTextFileReader\u001b[0m\u001b[0;34m(\u001b[0m\u001b[0mfilepath_or_buffer\u001b[0m\u001b[0;34m,\u001b[0m \u001b[0;34m**\u001b[0m\u001b[0mkwds\u001b[0m\u001b[0;34m)\u001b[0m\u001b[0;34m\u001b[0m\u001b[0m\n\u001b[0m\u001b[1;32m    441\u001b[0m \u001b[0;34m\u001b[0m\u001b[0m\n\u001b[1;32m    442\u001b[0m     \u001b[0;32mif\u001b[0m \u001b[0mchunksize\u001b[0m \u001b[0;32mor\u001b[0m \u001b[0miterator\u001b[0m\u001b[0;34m:\u001b[0m\u001b[0;34m\u001b[0m\u001b[0m\n",
      "\u001b[0;32m/anaconda3/lib/python3.6/site-packages/pandas/io/parsers.py\u001b[0m in \u001b[0;36m__init__\u001b[0;34m(self, f, engine, **kwds)\u001b[0m\n\u001b[1;32m    785\u001b[0m             \u001b[0mself\u001b[0m\u001b[0;34m.\u001b[0m\u001b[0moptions\u001b[0m\u001b[0;34m[\u001b[0m\u001b[0;34m'has_index_names'\u001b[0m\u001b[0;34m]\u001b[0m \u001b[0;34m=\u001b[0m \u001b[0mkwds\u001b[0m\u001b[0;34m[\u001b[0m\u001b[0;34m'has_index_names'\u001b[0m\u001b[0;34m]\u001b[0m\u001b[0;34m\u001b[0m\u001b[0m\n\u001b[1;32m    786\u001b[0m \u001b[0;34m\u001b[0m\u001b[0m\n\u001b[0;32m--> 787\u001b[0;31m         \u001b[0mself\u001b[0m\u001b[0;34m.\u001b[0m\u001b[0m_make_engine\u001b[0m\u001b[0;34m(\u001b[0m\u001b[0mself\u001b[0m\u001b[0;34m.\u001b[0m\u001b[0mengine\u001b[0m\u001b[0;34m)\u001b[0m\u001b[0;34m\u001b[0m\u001b[0m\n\u001b[0m\u001b[1;32m    788\u001b[0m \u001b[0;34m\u001b[0m\u001b[0m\n\u001b[1;32m    789\u001b[0m     \u001b[0;32mdef\u001b[0m \u001b[0mclose\u001b[0m\u001b[0;34m(\u001b[0m\u001b[0mself\u001b[0m\u001b[0;34m)\u001b[0m\u001b[0;34m:\u001b[0m\u001b[0;34m\u001b[0m\u001b[0m\n",
      "\u001b[0;32m/anaconda3/lib/python3.6/site-packages/pandas/io/parsers.py\u001b[0m in \u001b[0;36m_make_engine\u001b[0;34m(self, engine)\u001b[0m\n\u001b[1;32m   1012\u001b[0m     \u001b[0;32mdef\u001b[0m \u001b[0m_make_engine\u001b[0m\u001b[0;34m(\u001b[0m\u001b[0mself\u001b[0m\u001b[0;34m,\u001b[0m \u001b[0mengine\u001b[0m\u001b[0;34m=\u001b[0m\u001b[0;34m'c'\u001b[0m\u001b[0;34m)\u001b[0m\u001b[0;34m:\u001b[0m\u001b[0;34m\u001b[0m\u001b[0m\n\u001b[1;32m   1013\u001b[0m         \u001b[0;32mif\u001b[0m \u001b[0mengine\u001b[0m \u001b[0;34m==\u001b[0m \u001b[0;34m'c'\u001b[0m\u001b[0;34m:\u001b[0m\u001b[0;34m\u001b[0m\u001b[0m\n\u001b[0;32m-> 1014\u001b[0;31m             \u001b[0mself\u001b[0m\u001b[0;34m.\u001b[0m\u001b[0m_engine\u001b[0m \u001b[0;34m=\u001b[0m \u001b[0mCParserWrapper\u001b[0m\u001b[0;34m(\u001b[0m\u001b[0mself\u001b[0m\u001b[0;34m.\u001b[0m\u001b[0mf\u001b[0m\u001b[0;34m,\u001b[0m \u001b[0;34m**\u001b[0m\u001b[0mself\u001b[0m\u001b[0;34m.\u001b[0m\u001b[0moptions\u001b[0m\u001b[0;34m)\u001b[0m\u001b[0;34m\u001b[0m\u001b[0m\n\u001b[0m\u001b[1;32m   1015\u001b[0m         \u001b[0;32melse\u001b[0m\u001b[0;34m:\u001b[0m\u001b[0;34m\u001b[0m\u001b[0m\n\u001b[1;32m   1016\u001b[0m             \u001b[0;32mif\u001b[0m \u001b[0mengine\u001b[0m \u001b[0;34m==\u001b[0m \u001b[0;34m'python'\u001b[0m\u001b[0;34m:\u001b[0m\u001b[0;34m\u001b[0m\u001b[0m\n",
      "\u001b[0;32m/anaconda3/lib/python3.6/site-packages/pandas/io/parsers.py\u001b[0m in \u001b[0;36m__init__\u001b[0;34m(self, src, **kwds)\u001b[0m\n\u001b[1;32m   1706\u001b[0m         \u001b[0mkwds\u001b[0m\u001b[0;34m[\u001b[0m\u001b[0;34m'usecols'\u001b[0m\u001b[0;34m]\u001b[0m \u001b[0;34m=\u001b[0m \u001b[0mself\u001b[0m\u001b[0;34m.\u001b[0m\u001b[0musecols\u001b[0m\u001b[0;34m\u001b[0m\u001b[0m\n\u001b[1;32m   1707\u001b[0m \u001b[0;34m\u001b[0m\u001b[0m\n\u001b[0;32m-> 1708\u001b[0;31m         \u001b[0mself\u001b[0m\u001b[0;34m.\u001b[0m\u001b[0m_reader\u001b[0m \u001b[0;34m=\u001b[0m \u001b[0mparsers\u001b[0m\u001b[0;34m.\u001b[0m\u001b[0mTextReader\u001b[0m\u001b[0;34m(\u001b[0m\u001b[0msrc\u001b[0m\u001b[0;34m,\u001b[0m \u001b[0;34m**\u001b[0m\u001b[0mkwds\u001b[0m\u001b[0;34m)\u001b[0m\u001b[0;34m\u001b[0m\u001b[0m\n\u001b[0m\u001b[1;32m   1709\u001b[0m \u001b[0;34m\u001b[0m\u001b[0m\n\u001b[1;32m   1710\u001b[0m         \u001b[0mpassed_names\u001b[0m \u001b[0;34m=\u001b[0m \u001b[0mself\u001b[0m\u001b[0;34m.\u001b[0m\u001b[0mnames\u001b[0m \u001b[0;32mis\u001b[0m \u001b[0;32mNone\u001b[0m\u001b[0;34m\u001b[0m\u001b[0m\n",
      "\u001b[0;32mpandas/_libs/parsers.pyx\u001b[0m in \u001b[0;36mpandas._libs.parsers.TextReader.__cinit__\u001b[0;34m()\u001b[0m\n",
      "\u001b[0;32mpandas/_libs/parsers.pyx\u001b[0m in \u001b[0;36mpandas._libs.parsers.TextReader._setup_parser_source\u001b[0;34m()\u001b[0m\n",
      "\u001b[0;31mFileNotFoundError\u001b[0m: File b'/home/Desktop/Curvatures/Data/Datasets/UCI_Congressional_Voting_Records.txt' does not exist"
     ]
    }
   ],
   "source": [
    "Graph = lh.load_UCI_Congress()\n",
    "\n",
    "target_labels = []\n",
    "for idx, vertex_map in vertex_dict.items():\n",
    "    party = vertex_map['class']\n",
    "    print('{}:\\t{}'.format(idx, party))\n",
    "    if party == 'democrat':\n",
    "        target_labels.append(0)\n",
    "    else:\n",
    "        target_labels.append(1)\n",
    "\n",
    "edges = []\n",
    "for idx, edge in edge_dict.items():\n",
    "    edges.append(edge)\n",
    "\n",
    "num_vertices = len(target_labels)\n",
    "pw_dist_matrix = np.loadtxt('pw_dist_matrix_Congression')\n",
    "\n",
    "w_edge_weights = Wasserstein_edge_weights(num_vertices, edges, pw_dist_matrix, verbose=True)\n",
    "\n",
    "edge = edges[9]\n",
    "A = conditional_prob[edge, :].T\n",
    "barycenter, log_b = ot.bregman.barycenter(A, pw_dist_matrix, 0.1, log=True)\n",
    "print(barycenter.shape)\n",
    "print(log_b)\n",
    "for v in edge:\n",
    "    p = conditional_prob[v]\n",
    "    if (abs(p.sum() - 1.) > 1e-4) or (p.min() < 0):\n",
    "        print('\\tsum = {}, min = {}'.format(p.sum(), p.min()))\n",
    "\n",
    "    d = ot.sinkhorn2(p, barycenter, pw_dist_matrix, 0.01)\n",
    "    print(d)"
   ]
  },
  {
   "cell_type": "markdown",
   "metadata": {},
   "source": [
    "## Wasserstein distance with numpy.optimize.linprog and CVXPY"
   ]
  },
  {
   "cell_type": "code",
   "execution_count": null,
   "metadata": {},
   "outputs": [],
   "source": [
    "import Wasserstein_lp as wlp"
   ]
  },
  {
   "cell_type": "code",
   "execution_count": null,
   "metadata": {},
   "outputs": [],
   "source": []
  }
 ],
 "metadata": {
  "kernelspec": {
   "display_name": "Python 3",
   "language": "python",
   "name": "python3"
  },
  "language_info": {
   "codemirror_mode": {
    "name": "ipython",
    "version": 3
   },
   "file_extension": ".py",
   "mimetype": "text/x-python",
   "name": "python",
   "nbconvert_exporter": "python",
   "pygments_lexer": "ipython3",
   "version": "3.6.5"
  }
 },
 "nbformat": 4,
 "nbformat_minor": 2
}
