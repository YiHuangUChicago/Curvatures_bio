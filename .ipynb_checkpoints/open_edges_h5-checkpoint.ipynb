{
 "cells": [
  {
   "cell_type": "code",
   "execution_count": 1,
   "metadata": {},
   "outputs": [
    {
     "ename": "ModuleNotFoundError",
     "evalue": "No module named 'datahelpers'",
     "output_type": "error",
     "traceback": [
      "\u001b[0;31m---------------------------------------------------------------------------\u001b[0m",
      "\u001b[0;31mModuleNotFoundError\u001b[0m                       Traceback (most recent call last)",
      "\u001b[0;32m<ipython-input-1-8f091f022433>\u001b[0m in \u001b[0;36m<module>\u001b[0;34m()\u001b[0m\n\u001b[0;32m----> 1\u001b[0;31m \u001b[0;32mfrom\u001b[0m \u001b[0mdatahelpers\u001b[0m\u001b[0;34m.\u001b[0m\u001b[0mcommunity_tools\u001b[0m \u001b[0;32mimport\u001b[0m \u001b[0mprepare_graphdf\u001b[0m\u001b[0;34m,\u001b[0m \u001b[0mprepare_graph_from_df\u001b[0m\u001b[0;34m\u001b[0m\u001b[0m\n\u001b[0m\u001b[1;32m      2\u001b[0m \u001b[0;32mfrom\u001b[0m \u001b[0mdatahelpers\u001b[0m\u001b[0;34m.\u001b[0m\u001b[0mcommunity_tools\u001b[0m \u001b[0;32mimport\u001b[0m \u001b[0mmeta_calculate_comms\u001b[0m\u001b[0;34m\u001b[0m\u001b[0m\n\u001b[1;32m      3\u001b[0m \u001b[0;32mfrom\u001b[0m \u001b[0mitertools\u001b[0m \u001b[0;32mimport\u001b[0m \u001b[0mproduct\u001b[0m\u001b[0;34m\u001b[0m\u001b[0m\n\u001b[1;32m      4\u001b[0m \u001b[0;32mfrom\u001b[0m \u001b[0mpprint\u001b[0m \u001b[0;32mimport\u001b[0m \u001b[0mpprint\u001b[0m\u001b[0;34m\u001b[0m\u001b[0m\n\u001b[1;32m      5\u001b[0m \u001b[0;32mfrom\u001b[0m \u001b[0mpandas\u001b[0m \u001b[0;32mimport\u001b[0m \u001b[0mHDFStore\u001b[0m\u001b[0;34m\u001b[0m\u001b[0m\n",
      "\u001b[0;31mModuleNotFoundError\u001b[0m: No module named 'datahelpers'"
     ]
    }
   ],
   "source": [
    "from datahelpers.community_tools import prepare_graphdf, prepare_graph_from_df\n",
    "from datahelpers.community_tools import meta_calculate_comms\n",
    "from itertools import product\n",
    "from pprint import pprint\n",
    "from pandas import HDFStore\n",
    "from os.path import expanduser"
   ]
  },
  {
   "cell_type": "markdown",
   "metadata": {},
   "source": [
    "install datahelpes from here : https://github.com/alexander-belikov/datahelpers\n",
    "also pandas and igraph should be installed"
   ]
  },
  {
   "cell_type": "code",
   "execution_count": 2,
   "metadata": {},
   "outputs": [],
   "source": [
    "versions = [8, 11]\n",
    "df_types = ['lit', 'gw']\n",
    "\n",
    "fnames = ['~/data/kl/comms/edges_all_{0}{1}.h5'.format(t, v) for t, v in zip(df_types, versions)]"
   ]
  },
  {
   "cell_type": "markdown",
   "metadata": {},
   "source": [
    "## Check the keys in hdf files"
   ]
  },
  {
   "cell_type": "code",
   "execution_count": 3,
   "metadata": {},
   "outputs": [],
   "source": [
    "keys = {}\n",
    "for f in fnames:\n",
    "    store = HDFStore(expanduser(f), mode='r')\n",
    "    keys[f] = sorted(store.keys())"
   ]
  },
  {
   "cell_type": "code",
   "execution_count": 4,
   "metadata": {},
   "outputs": [
    {
     "name": "stdout",
     "output_type": "stream",
     "text": [
      "{'~/data/kl/comms/edges_all_lit8.h5': ['/y1947', '/y1950', '/y1951', '/y1952', '/y1960', '/y1963', '/y1964', '/y1965', '/y1966', '/y1967', '/y1968', '/y1969', '/y1970', '/y1971', '/y1972', '/y1973', '/y1974', '/y1975', '/y1976', '/y1977', '/y1978', '/y1979', '/y1980', '/y1981', '/y1982', '/y1983', '/y1984', '/y1985', '/y1986', '/y1987', '/y1988', '/y1989', '/y1990', '/y1991', '/y1992', '/y1993', '/y1994', '/y1995', '/y1996', '/y1997', '/y1998', '/y1999', '/y2000', '/y2001', '/y2002', '/y2003', '/y2004', '/y2005', '/y2006', '/y2007', '/y2008', '/y2009', '/y2010', '/y2011', '/y2012', '/y2013'], '~/data/kl/comms/edges_all_gw11.h5': ['/y1975', '/y1976', '/y1977', '/y1978', '/y1979', '/y1980', '/y1981', '/y1982', '/y1983', '/y1984', '/y1985', '/y1986', '/y1987', '/y1988', '/y1989', '/y1990', '/y1991', '/y1992', '/y1993', '/y1994', '/y1995', '/y1996', '/y1997', '/y1998', '/y1999', '/y2000', '/y2001', '/y2002', '/y2003', '/y2004', '/y2005', '/y2006', '/y2007', '/y2008', '/y2009', '/y2010', '/y2011', '/y2012', '/y2013']}\n"
     ]
    }
   ],
   "source": [
    "print(keys)"
   ]
  },
  {
   "cell_type": "markdown",
   "metadata": {},
   "source": [
    "prepare_graphdf fetches the edges from a list hdf files that are under the key, e.g. 1995"
   ]
  },
  {
   "cell_type": "code",
   "execution_count": 5,
   "metadata": {},
   "outputs": [],
   "source": [
    "df = prepare_graphdf(fnames, 'edges', 1995)"
   ]
  },
  {
   "cell_type": "code",
   "execution_count": 6,
   "metadata": {},
   "outputs": [
    {
     "data": {
      "text/plain": [
       "(28644, 3)"
      ]
     },
     "execution_count": 6,
     "metadata": {},
     "output_type": "execute_result"
    }
   ],
   "source": [
    "df.shape"
   ]
  },
  {
   "cell_type": "code",
   "execution_count": 7,
   "metadata": {},
   "outputs": [
    {
     "data": {
      "text/html": [
       "<div>\n",
       "<style scoped>\n",
       "    .dataframe tbody tr th:only-of-type {\n",
       "        vertical-align: middle;\n",
       "    }\n",
       "\n",
       "    .dataframe tbody tr th {\n",
       "        vertical-align: top;\n",
       "    }\n",
       "\n",
       "    .dataframe thead th {\n",
       "        text-align: right;\n",
       "    }\n",
       "</style>\n",
       "<table border=\"1\" class=\"dataframe\">\n",
       "  <thead>\n",
       "    <tr style=\"text-align: right;\">\n",
       "      <th></th>\n",
       "      <th>up</th>\n",
       "      <th>dn</th>\n",
       "      <th>0</th>\n",
       "    </tr>\n",
       "  </thead>\n",
       "  <tbody>\n",
       "    <tr>\n",
       "      <th>0</th>\n",
       "      <td>2</td>\n",
       "      <td>213</td>\n",
       "      <td>2</td>\n",
       "    </tr>\n",
       "    <tr>\n",
       "      <th>1</th>\n",
       "      <td>2</td>\n",
       "      <td>348</td>\n",
       "      <td>2</td>\n",
       "    </tr>\n",
       "    <tr>\n",
       "      <th>2</th>\n",
       "      <td>2</td>\n",
       "      <td>462</td>\n",
       "      <td>4</td>\n",
       "    </tr>\n",
       "    <tr>\n",
       "      <th>3</th>\n",
       "      <td>2</td>\n",
       "      <td>718</td>\n",
       "      <td>1</td>\n",
       "    </tr>\n",
       "    <tr>\n",
       "      <th>4</th>\n",
       "      <td>2</td>\n",
       "      <td>973</td>\n",
       "      <td>3</td>\n",
       "    </tr>\n",
       "  </tbody>\n",
       "</table>\n",
       "</div>"
      ],
      "text/plain": [
       "   up   dn  0\n",
       "0   2  213  2\n",
       "1   2  348  2\n",
       "2   2  462  4\n",
       "3   2  718  1\n",
       "4   2  973  3"
      ]
     },
     "execution_count": 7,
     "metadata": {},
     "output_type": "execute_result"
    }
   ],
   "source": [
    "df.head()"
   ]
  },
  {
   "cell_type": "markdown",
   "metadata": {},
   "source": [
    "prepare_graph_from_df creates a graph (that has integer nodes) and provides weights and also a map i -> actual node"
   ]
  },
  {
   "cell_type": "code",
   "execution_count": 8,
   "metadata": {},
   "outputs": [],
   "source": [
    "g, weights, inv_conv = prepare_graph_from_df(df, 'edges', directed=False, percentile_value=None)"
   ]
  },
  {
   "cell_type": "code",
   "execution_count": null,
   "metadata": {},
   "outputs": [],
   "source": []
  }
 ],
 "metadata": {
  "kernelspec": {
   "display_name": "Python 3",
   "language": "python",
   "name": "python3"
  },
  "language_info": {
   "codemirror_mode": {
    "name": "ipython",
    "version": 3
   },
   "file_extension": ".py",
   "mimetype": "text/x-python",
   "name": "python",
   "nbconvert_exporter": "python",
   "pygments_lexer": "ipython3",
   "version": "3.6.5"
  }
 },
 "nbformat": 4,
 "nbformat_minor": 2
}
