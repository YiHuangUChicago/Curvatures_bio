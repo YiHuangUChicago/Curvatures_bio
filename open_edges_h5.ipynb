{
 "cells": [
  {
   "cell_type": "code",
   "execution_count": 1,
   "metadata": {},
   "outputs": [
    {
     "ename": "DeprecationWarning",
     "evalue": "To avoid name collision with the igraph project, this visualization library has been renamed to 'jgraph'. Please upgrade when convenient.",
     "output_type": "error",
     "traceback": [
      "\u001b[0;31m---------------------------------------------------------------------------\u001b[0m",
      "\u001b[0;31mDeprecationWarning\u001b[0m                        Traceback (most recent call last)",
      "\u001b[0;32m<ipython-input-1-fe475e30866c>\u001b[0m in \u001b[0;36m<module>\u001b[0;34m()\u001b[0m\n\u001b[0;32m----> 1\u001b[0;31m \u001b[0;32mfrom\u001b[0m \u001b[0mdatahelpers\u001b[0m\u001b[0;34m.\u001b[0m\u001b[0mcommunity_tools\u001b[0m \u001b[0;32mimport\u001b[0m \u001b[0mprepare_graphdf\u001b[0m\u001b[0;34m,\u001b[0m \u001b[0mprepare_graph_from_df\u001b[0m\u001b[0;34m\u001b[0m\u001b[0m\n\u001b[0m\u001b[1;32m      2\u001b[0m \u001b[0;32mfrom\u001b[0m \u001b[0mdatahelpers\u001b[0m\u001b[0;34m.\u001b[0m\u001b[0mcommunity_tools\u001b[0m \u001b[0;32mimport\u001b[0m \u001b[0mmeta_calculate_comms\u001b[0m\u001b[0;34m\u001b[0m\u001b[0m\n",
      "\u001b[0;32m/anaconda3/lib/python3.6/importlib/_bootstrap.py\u001b[0m in \u001b[0;36m_find_and_load\u001b[0;34m(name, import_)\u001b[0m\n",
      "\u001b[0;32m/anaconda3/lib/python3.6/importlib/_bootstrap.py\u001b[0m in \u001b[0;36m_find_and_load_unlocked\u001b[0;34m(name, import_)\u001b[0m\n",
      "\u001b[0;32m/anaconda3/lib/python3.6/importlib/_bootstrap.py\u001b[0m in \u001b[0;36m_load_unlocked\u001b[0;34m(spec)\u001b[0m\n",
      "\u001b[0;32m/anaconda3/lib/python3.6/importlib/_bootstrap.py\u001b[0m in \u001b[0;36m_load_backward_compatible\u001b[0;34m(spec)\u001b[0m\n",
      "\u001b[0;32m/anaconda3/lib/python3.6/site-packages/datahelpers-0.0.2-py3.6.egg/datahelpers/community_tools.py\u001b[0m in \u001b[0;36m<module>\u001b[0;34m()\u001b[0m\n\u001b[1;32m      5\u001b[0m \u001b[0;32mfrom\u001b[0m \u001b[0mpandas\u001b[0m \u001b[0;32mimport\u001b[0m \u001b[0mDataFrame\u001b[0m\u001b[0;34m,\u001b[0m \u001b[0mread_hdf\u001b[0m\u001b[0;34m,\u001b[0m \u001b[0mconcat\u001b[0m\u001b[0;34m,\u001b[0m \u001b[0mHDFStore\u001b[0m\u001b[0;34m\u001b[0m\u001b[0m\n\u001b[1;32m      6\u001b[0m \u001b[0;32mfrom\u001b[0m \u001b[0mos\u001b[0m\u001b[0;34m.\u001b[0m\u001b[0mpath\u001b[0m \u001b[0;32mimport\u001b[0m \u001b[0mexpanduser\u001b[0m\u001b[0;34m,\u001b[0m \u001b[0mjoin\u001b[0m\u001b[0;34m\u001b[0m\u001b[0m\n\u001b[0;32m----> 7\u001b[0;31m \u001b[0;32mimport\u001b[0m \u001b[0migraph\u001b[0m \u001b[0;32mas\u001b[0m \u001b[0mig\u001b[0m\u001b[0;34m\u001b[0m\u001b[0m\n\u001b[0m\u001b[1;32m      8\u001b[0m \u001b[0;34m\u001b[0m\u001b[0m\n\u001b[1;32m      9\u001b[0m \u001b[0;34m\u001b[0m\u001b[0m\n",
      "\u001b[0;32m/anaconda3/lib/python3.6/site-packages/igraph/__init__.py\u001b[0m in \u001b[0;36m<module>\u001b[0;34m()\u001b[0m\n\u001b[1;32m      6\u001b[0m \u001b[0m__license__\u001b[0m \u001b[0;34m=\u001b[0m \u001b[0;34m\"MIT\"\u001b[0m\u001b[0;34m\u001b[0m\u001b[0m\n\u001b[1;32m      7\u001b[0m \u001b[0;34m\u001b[0m\u001b[0m\n\u001b[0;32m----> 8\u001b[0;31m raise DeprecationWarning(\"To avoid name collision with the igraph project, \"\n\u001b[0m\u001b[1;32m      9\u001b[0m                          \u001b[0;34m\"this visualization library has been renamed to \"\u001b[0m\u001b[0;34m\u001b[0m\u001b[0m\n\u001b[1;32m     10\u001b[0m                          \"'jgraph'. Please upgrade when convenient.\")\n",
      "\u001b[0;31mDeprecationWarning\u001b[0m: To avoid name collision with the igraph project, this visualization library has been renamed to 'jgraph'. Please upgrade when convenient."
     ]
    }
   ],
   "source": [
    "from datahelpers.community_tools import prepare_graphdf, prepare_graph_from_df\n",
    "from datahelpers.community_tools import meta_calculate_comms"
   ]
  },
  {
   "cell_type": "markdown",
   "metadata": {},
   "source": [
    "install datahelpes from here : https://github.com/alexander-belikov/datahelpers\n",
    "also pandas and igraph should be installed"
   ]
  },
  {
   "cell_type": "code",
   "execution_count": 8,
   "metadata": {},
   "outputs": [],
   "source": [
    "from itertools import product\n",
    "from pprint import pprint\n",
    "from pandas import HDFStore, read_hdf\n",
    "from os.path import expanduser"
   ]
  },
  {
   "cell_type": "code",
   "execution_count": 9,
   "metadata": {},
   "outputs": [
    {
     "name": "stdout",
     "output_type": "stream",
     "text": [
      "['edges_all_lit8.h5', 'edges_all_gw11.h5']\n"
     ]
    }
   ],
   "source": [
    "versions = [8, 11]\n",
    "df_types = ['lit', 'gw']\n",
    "\n",
    "fnames = ['edges_all_{0}{1}.h5'.format(t, v) for t, v in zip(df_types, versions)]\n",
    "print(fnames)"
   ]
  },
  {
   "cell_type": "markdown",
   "metadata": {},
   "source": [
    "## Check the keys in hdf files"
   ]
  },
  {
   "cell_type": "code",
   "execution_count": 11,
   "metadata": {},
   "outputs": [
    {
     "name": "stdout",
     "output_type": "stream",
     "text": [
      "               up     dn  0\n",
      "0               2    109  1\n",
      "1               2    213  3\n",
      "2               2    324  2\n",
      "3               2    348  4\n",
      "4               2    354  3\n",
      "5               2    434  1\n",
      "6               2    462  4\n",
      "7               2    718  1\n",
      "8               2    973  3\n",
      "9               2   1051  1\n",
      "10              2   1147  1\n",
      "11              2   1154  1\n",
      "12              2   1401  2\n",
      "13              2   1435  1\n",
      "14              2   1509  1\n",
      "15              2   1510  1\n",
      "16              2   1634  1\n",
      "17              2   1991  2\n",
      "18              2   2048  1\n",
      "19              2   2098  1\n",
      "20              2   2157  1\n",
      "21              2   2244  1\n",
      "22              2   2247  1\n",
      "23              2   2670  1\n",
      "24              2   2852  1\n",
      "25              2   2986  1\n",
      "26              2   3309  1\n",
      "27              2   3339  1\n",
      "28              2   3553  1\n",
      "29              2   3569  1\n",
      "...           ...    ... ..\n",
      "144142  100507436   3375  1\n",
      "144143  100507436   3458  3\n",
      "144144  100507436   3821  7\n",
      "144145  100507436   3824  1\n",
      "144146  100507436   3948  1\n",
      "144147  100507436   4277  5\n",
      "144148  100507436   4323  1\n",
      "144149  100507436   4342  1\n",
      "144150  100507436   4684  1\n",
      "144151  100507436   5034  1\n",
      "144152  100507436   5047  3\n",
      "144153  100507436   5352  1\n",
      "144154  100507436   5460  1\n",
      "144155  100507436   6037  1\n",
      "144156  100507436   6277  2\n",
      "144157  100507436   6606  1\n",
      "144158  100507436   6818  1\n",
      "144159  100507436   8754  1\n",
      "144160  100507436  51761  1\n",
      "144161  100507436  57192  1\n",
      "144162  100507436  57692  1\n",
      "144163  100507436  64102  1\n",
      "144164  100526773    367  1\n",
      "144165  100526773   9520  1\n",
      "144166  100616385   7157  1\n",
      "144167  100628315  26052  1\n",
      "144168  100820829   2821  1\n",
      "144169  100861412  10468  1\n",
      "144170  101929222  27185  1\n",
      "144171  109729104    360  1\n",
      "\n",
      "[144172 rows x 3 columns]\n"
     ]
    },
    {
     "ename": "TypeError",
     "evalue": "'<' not supported between instances of 'int' and 'str'",
     "output_type": "error",
     "traceback": [
      "\u001b[0;31m---------------------------------------------------------------------------\u001b[0m",
      "\u001b[0;31mTypeError\u001b[0m                                 Traceback (most recent call last)",
      "\u001b[0;32m<ipython-input-11-4dacde2c3749>\u001b[0m in \u001b[0;36m<module>\u001b[0;34m()\u001b[0m\n\u001b[1;32m      5\u001b[0m     \u001b[0mstore\u001b[0m \u001b[0;34m=\u001b[0m \u001b[0mread_hdf\u001b[0m\u001b[0;34m(\u001b[0m\u001b[0mf\u001b[0m\u001b[0;34m,\u001b[0m \u001b[0;34m'/y2013'\u001b[0m\u001b[0;34m)\u001b[0m\u001b[0;34m\u001b[0m\u001b[0m\n\u001b[1;32m      6\u001b[0m     \u001b[0mprint\u001b[0m\u001b[0;34m(\u001b[0m\u001b[0mstore\u001b[0m\u001b[0;34m)\u001b[0m\u001b[0;34m\u001b[0m\u001b[0m\n\u001b[0;32m----> 7\u001b[0;31m     \u001b[0mkeys\u001b[0m\u001b[0;34m[\u001b[0m\u001b[0mf\u001b[0m\u001b[0;34m]\u001b[0m \u001b[0;34m=\u001b[0m \u001b[0msorted\u001b[0m\u001b[0;34m(\u001b[0m\u001b[0mstore\u001b[0m\u001b[0;34m.\u001b[0m\u001b[0mkeys\u001b[0m\u001b[0;34m(\u001b[0m\u001b[0;34m)\u001b[0m\u001b[0;34m)\u001b[0m\u001b[0;34m\u001b[0m\u001b[0m\n\u001b[0m",
      "\u001b[0;31mTypeError\u001b[0m: '<' not supported between instances of 'int' and 'str'"
     ]
    }
   ],
   "source": [
    "keys = {}\n",
    "for f in fnames:\n",
    "    # store = HDFStore(expanduser(f), mode='r')\n",
    "    store = HDFStore(f, mode='r')\n",
    "    store = read_hdf(f, '/y2013')\n",
    "    print(store)\n",
    "    keys[f] = sorted(store.keys())"
   ]
  },
  {
   "cell_type": "code",
   "execution_count": 5,
   "metadata": {},
   "outputs": [
    {
     "name": "stdout",
     "output_type": "stream",
     "text": [
      "{'edges_all_lit8.h5': ['/y1947', '/y1950', '/y1951', '/y1952', '/y1960', '/y1963', '/y1964', '/y1965', '/y1966', '/y1967', '/y1968', '/y1969', '/y1970', '/y1971', '/y1972', '/y1973', '/y1974', '/y1975', '/y1976', '/y1977', '/y1978', '/y1979', '/y1980', '/y1981', '/y1982', '/y1983', '/y1984', '/y1985', '/y1986', '/y1987', '/y1988', '/y1989', '/y1990', '/y1991', '/y1992', '/y1993', '/y1994', '/y1995', '/y1996', '/y1997', '/y1998', '/y1999', '/y2000', '/y2001', '/y2002', '/y2003', '/y2004', '/y2005', '/y2006', '/y2007', '/y2008', '/y2009', '/y2010', '/y2011', '/y2012', '/y2013'], 'edges_all_gw11.h5': ['/y1975', '/y1976', '/y1977', '/y1978', '/y1979', '/y1980', '/y1981', '/y1982', '/y1983', '/y1984', '/y1985', '/y1986', '/y1987', '/y1988', '/y1989', '/y1990', '/y1991', '/y1992', '/y1993', '/y1994', '/y1995', '/y1996', '/y1997', '/y1998', '/y1999', '/y2000', '/y2001', '/y2002', '/y2003', '/y2004', '/y2005', '/y2006', '/y2007', '/y2008', '/y2009', '/y2010', '/y2011', '/y2012', '/y2013']}\n"
     ]
    }
   ],
   "source": [
    "print(keys)"
   ]
  },
  {
   "cell_type": "code",
   "execution_count": null,
   "metadata": {},
   "outputs": [],
   "source": []
  },
  {
   "cell_type": "markdown",
   "metadata": {},
   "source": [
    "## prepare_graphdf fetches the edges from a list hdf files that are under the key, e.g. 1995"
   ]
  },
  {
   "cell_type": "code",
   "execution_count": 6,
   "metadata": {},
   "outputs": [
    {
     "ename": "NameError",
     "evalue": "name 'prepare_graphdf' is not defined",
     "output_type": "error",
     "traceback": [
      "\u001b[0;31m---------------------------------------------------------------------------\u001b[0m",
      "\u001b[0;31mNameError\u001b[0m                                 Traceback (most recent call last)",
      "\u001b[0;32m<ipython-input-6-c7032a673643>\u001b[0m in \u001b[0;36m<module>\u001b[0;34m()\u001b[0m\n\u001b[0;32m----> 1\u001b[0;31m \u001b[0mdf\u001b[0m \u001b[0;34m=\u001b[0m \u001b[0mprepare_graphdf\u001b[0m\u001b[0;34m(\u001b[0m\u001b[0mfnames\u001b[0m\u001b[0;34m,\u001b[0m \u001b[0;34m'edges'\u001b[0m\u001b[0;34m,\u001b[0m \u001b[0;36m1995\u001b[0m\u001b[0;34m)\u001b[0m\u001b[0;34m\u001b[0m\u001b[0m\n\u001b[0m",
      "\u001b[0;31mNameError\u001b[0m: name 'prepare_graphdf' is not defined"
     ]
    }
   ],
   "source": [
    "df = prepare_graphdf(fnames, 'edges', 1995)"
   ]
  },
  {
   "cell_type": "code",
   "execution_count": 6,
   "metadata": {},
   "outputs": [
    {
     "data": {
      "text/plain": [
       "(28644, 3)"
      ]
     },
     "execution_count": 6,
     "metadata": {},
     "output_type": "execute_result"
    }
   ],
   "source": [
    "df.shape"
   ]
  },
  {
   "cell_type": "code",
   "execution_count": 7,
   "metadata": {},
   "outputs": [
    {
     "data": {
      "text/html": [
       "<div>\n",
       "<style scoped>\n",
       "    .dataframe tbody tr th:only-of-type {\n",
       "        vertical-align: middle;\n",
       "    }\n",
       "\n",
       "    .dataframe tbody tr th {\n",
       "        vertical-align: top;\n",
       "    }\n",
       "\n",
       "    .dataframe thead th {\n",
       "        text-align: right;\n",
       "    }\n",
       "</style>\n",
       "<table border=\"1\" class=\"dataframe\">\n",
       "  <thead>\n",
       "    <tr style=\"text-align: right;\">\n",
       "      <th></th>\n",
       "      <th>up</th>\n",
       "      <th>dn</th>\n",
       "      <th>0</th>\n",
       "    </tr>\n",
       "  </thead>\n",
       "  <tbody>\n",
       "    <tr>\n",
       "      <th>0</th>\n",
       "      <td>2</td>\n",
       "      <td>213</td>\n",
       "      <td>2</td>\n",
       "    </tr>\n",
       "    <tr>\n",
       "      <th>1</th>\n",
       "      <td>2</td>\n",
       "      <td>348</td>\n",
       "      <td>2</td>\n",
       "    </tr>\n",
       "    <tr>\n",
       "      <th>2</th>\n",
       "      <td>2</td>\n",
       "      <td>462</td>\n",
       "      <td>4</td>\n",
       "    </tr>\n",
       "    <tr>\n",
       "      <th>3</th>\n",
       "      <td>2</td>\n",
       "      <td>718</td>\n",
       "      <td>1</td>\n",
       "    </tr>\n",
       "    <tr>\n",
       "      <th>4</th>\n",
       "      <td>2</td>\n",
       "      <td>973</td>\n",
       "      <td>3</td>\n",
       "    </tr>\n",
       "  </tbody>\n",
       "</table>\n",
       "</div>"
      ],
      "text/plain": [
       "   up   dn  0\n",
       "0   2  213  2\n",
       "1   2  348  2\n",
       "2   2  462  4\n",
       "3   2  718  1\n",
       "4   2  973  3"
      ]
     },
     "execution_count": 7,
     "metadata": {},
     "output_type": "execute_result"
    }
   ],
   "source": [
    "df.head()"
   ]
  },
  {
   "cell_type": "markdown",
   "metadata": {},
   "source": [
    "## prepare_graph_from_df creates a graph (that has integer nodes) and provides weights and also a map i -> actual node"
   ]
  },
  {
   "cell_type": "code",
   "execution_count": 8,
   "metadata": {},
   "outputs": [],
   "source": [
    "g, weights, inv_conv = prepare_graph_from_df(df, 'edges', directed=False, percentile_value=None)"
   ]
  },
  {
   "cell_type": "code",
   "execution_count": null,
   "metadata": {},
   "outputs": [],
   "source": []
  }
 ],
 "metadata": {
  "kernelspec": {
   "display_name": "Python 3",
   "language": "python",
   "name": "python3"
  },
  "language_info": {
   "codemirror_mode": {
    "name": "ipython",
    "version": 3
   },
   "file_extension": ".py",
   "mimetype": "text/x-python",
   "name": "python",
   "nbconvert_exporter": "python",
   "pygments_lexer": "ipython3",
   "version": "3.6.5"
  }
 },
 "nbformat": 4,
 "nbformat_minor": 2
}
