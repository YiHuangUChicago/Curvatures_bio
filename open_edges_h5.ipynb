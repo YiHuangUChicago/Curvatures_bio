{
 "cells": [
  {
   "cell_type": "code",
   "execution_count": 1,
   "metadata": {},
   "outputs": [],
   "source": [
    "from pandas import HDFStore, read_hdf\n",
    "import pandas as pd\n",
    "from os.path import expanduser"
   ]
  },
  {
   "cell_type": "code",
   "execution_count": 2,
   "metadata": {},
   "outputs": [
    {
     "name": "stdout",
     "output_type": "stream",
     "text": [
      "['edges_all_lit8.h5', 'edges_all_gw11.h5']\n"
     ]
    }
   ],
   "source": [
    "versions = [8, 11]\n",
    "df_types = ['lit', 'gw']\n",
    "\n",
    "fnames = ['edges_all_{0}{1}.h5'.format(t, v) for t, v in zip(df_types, versions)]\n",
    "print(fnames)"
   ]
  },
  {
   "cell_type": "markdown",
   "metadata": {},
   "source": [
    "## Check the keys in hdf files"
   ]
  },
  {
   "cell_type": "code",
   "execution_count": 3,
   "metadata": {},
   "outputs": [
    {
     "name": "stdout",
     "output_type": "stream",
     "text": [
      "edges_all_lit8.h5: \n",
      "['/y1947', '/y1950', '/y1951', '/y1952', '/y1960', '/y1963', '/y1964', '/y1965', '/y1966', '/y1967', '/y1968', '/y1969', '/y1970', '/y1971', '/y1972', '/y1973', '/y1974', '/y1975', '/y1976', '/y1977', '/y1978', '/y1979', '/y1980', '/y1981', '/y1982', '/y1983', '/y1984', '/y1985', '/y1986', '/y1987', '/y1988', '/y1989', '/y1990', '/y1991', '/y1992', '/y1993', '/y1994', '/y1995', '/y1996', '/y1997', '/y1998', '/y1999', '/y2000', '/y2001', '/y2002', '/y2003', '/y2004', '/y2005', '/y2006', '/y2007', '/y2008', '/y2009', '/y2010', '/y2011', '/y2012', '/y2013']\n",
      "\n",
      "edges_all_gw11.h5: \n",
      "['/y1975', '/y1976', '/y1977', '/y1978', '/y1979', '/y1980', '/y1981', '/y1982', '/y1983', '/y1984', '/y1985', '/y1986', '/y1987', '/y1988', '/y1989', '/y1990', '/y1991', '/y1992', '/y1993', '/y1994', '/y1995', '/y1996', '/y1997', '/y1998', '/y1999', '/y2000', '/y2001', '/y2002', '/y2003', '/y2004', '/y2005', '/y2006', '/y2007', '/y2008', '/y2009', '/y2010', '/y2011', '/y2012', '/y2013']\n",
      "\n"
     ]
    }
   ],
   "source": [
    "keys = {}\n",
    "index_list = []\n",
    "for f in fnames:\n",
    "    store = HDFStore(expanduser(f), mode='r')\n",
    "    # store = HDFStore(f, mode='r')\n",
    "    # store = read_hdf(f, '/y2013')\n",
    "    # print(store)\n",
    "    keys[f] = sorted(store.keys())\n",
    "    print('{}: \\n{}\\n'.format(f, store.keys()))\n",
    "    index_list += store.keys()"
   ]
  },
  {
   "cell_type": "markdown",
   "metadata": {},
   "source": [
    "## merge the two datasets"
   ]
  },
  {
   "cell_type": "code",
   "execution_count": 4,
   "metadata": {},
   "outputs": [],
   "source": [
    "def merge(year):\n",
    "    \n",
    "    \"\"\"\n",
    "    \n",
    "    \"\"\"\n",
    "    \n",
    "    if (year < 1947) or (year > 2013):\n",
    "        raise Exception('year has to be >= 1947 and <=2013')\n",
    "        \n",
    "    \n",
    "    # Read dataframes:\n",
    "    vertices = set()\n",
    "    edges= {}\n",
    "    df = read_hdf('edges_all_lit8.h5', '/y{}'.format(year))\n",
    "    for i in df.index:\n",
    "        head, tail = df['up'][i], df['dn'][i]\n",
    "        key = '{}_{}'.format(head, tail)\n",
    "        value = df[0][i]\n",
    "        edges[key] = value\n",
    "        vertices.add(head)\n",
    "        vertices.add(tail)\n",
    "    \n",
    "    if year >=1974:\n",
    "        df = read_hdf('edges_all_gw11.h5', '/y{}'.format(year))\n",
    "        for i in df.index:\n",
    "            head, tail = df['up'][i], df['dn'][i]\n",
    "            key = '{}_{}'.format(head, tail)\n",
    "            value = df[0][i]\n",
    "            if key in edges.keys():\n",
    "                edges[key] = max(edges[key], value)\n",
    "            else:\n",
    "                edges[key] = value\n",
    "            vertices.add(head)\n",
    "            vertices.add(tail)\n",
    "    \n",
    "    # Get adjacency list and calculate Statistics:\n",
    "    adjacency_list = {v: {} for v in vertices}\n",
    "    num_loops, num_two_ways, num_one_ways = 0, 0, 0\n",
    "    \n",
    "    for edge in edges.keys():\n",
    "        up, down = list(map(int, edge.split('_')))\n",
    "        adjacency_list[up][down] = edges[edge]\n",
    "        if up == down:\n",
    "            num_loops += 1\n",
    "        else:\n",
    "            reversed_edge = '{}_{}'.format(down, up)\n",
    "            if reversed_edge in edges:\n",
    "                num_two_ways += 1\n",
    "            else:\n",
    "                num_one_ways += 1\n",
    "    \n",
    "    print('number of vertices = {},'.format(len(vertices)))\n",
    "    print('total number of edges = {},'.format(len(edges)))\n",
    "    print('number of loops = {},\\nnumber of pairs of two-way edges = {},\\nnumber of one-way edges = {}.\\n'\n",
    "          .format(num_loops, num_two_ways // 2, num_one_ways))\n",
    "    \n",
    "    return adjacency_list"
   ]
  },
  {
   "cell_type": "code",
   "execution_count": 5,
   "metadata": {},
   "outputs": [
    {
     "name": "stdout",
     "output_type": "stream",
     "text": [
      "number of vertices = 1015,\n",
      "total number of edges = 2043,\n",
      "number of loops = 54,\n",
      "number of pairs of two-way edges = 281,\n",
      "number of one-way edges = 1427.\n",
      "\n"
     ]
    }
   ],
   "source": [
    "year = 1980\n",
    "adjacency_list = merge(year)"
   ]
  },
  {
   "cell_type": "code",
   "execution_count": 6,
   "metadata": {},
   "outputs": [],
   "source": [
    "def remove_direction(adjacency_list):\n",
    "    \n",
    "    \"\"\"\n",
    "    Also remove loops\n",
    "    \"\"\"\n",
    "    undirected_adjacency_list = {vertex: {} for vertex in adjacency_list.keys()}\n",
    "    undirected_edges = set()\n",
    "    \n",
    "    for vertex, neighborhood in adjacency_list.items():\n",
    "        \n",
    "        for neighbor in neighborhood:\n",
    "\n",
    "            if neighbor == vertex:\n",
    "                continue\n",
    "    \n",
    "            if str(neighbor) + '_' + str(vertex) in undirected_edges:\n",
    "                continue\n",
    "            \n",
    "            weight = adjacency_list[vertex][neighbor]\n",
    "            undirected_adjacency_list[vertex][neighbor] = weight\n",
    "    \n",
    "            if vertex not in adjacency_list[neighbor]:\n",
    "                undirected_adjacency_list[neighbor][vertex] = weight\n",
    "            else:\n",
    "                total_weight = weight + adjacency_list[neighbor][vertex]\n",
    "                undirected_adjacency_list[vertex][neighbor] = total_weight\n",
    "                undirected_adjacency_list[neighbor][vertex] = total_weight\n",
    "                \n",
    "            undirected_edges.add(str(vertex) + '_' + str(neighbor))\n",
    "    \n",
    "    return undirected_adjacency_list"
   ]
  },
  {
   "cell_type": "code",
   "execution_count": 7,
   "metadata": {},
   "outputs": [],
   "source": [
    "undirected_adjacency_list = remove_direction(adjacency_list)"
   ]
  },
  {
   "cell_type": "code",
   "execution_count": 8,
   "metadata": {},
   "outputs": [
    {
     "name": "stdout",
     "output_type": "stream",
     "text": [
      "51201:\n",
      "\t{3859: 1, 3973: 1, 27102: 1, 58163: 2}\n",
      "\t{3859: 3, 3973: 1, 27102: 1, 58163: 4}\n",
      "2:\n",
      "\t{213: 1, 973: 2, 1991: 1, 3818: 1, 5340: 3, 5972: 1, 7018: 1, 10993: 1, 11012: 1, 64006: 2}\n",
      "\t{213: 2, 973: 2, 1991: 1, 3818: 2, 5340: 7, 5972: 1, 7018: 1, 10993: 1, 11012: 1, 64006: 3, 12: 1}\n",
      "2051:\n",
      "\t{1363: 1, 9623: 1}\n",
      "\t{1363: 1, 9623: 1, 56955: 1}\n",
      "2052:\n",
      "\t{909: 1, 27306: 1}\n",
      "\t{909: 1, 27306: 2}\n",
      "2056:\n",
      "\t{174: 1, 5741: 1, 8288: 1, 2056: 3, 5972: 1}\n",
      "\t{174: 1, 5741: 1, 8288: 1, 5972: 3, 353: 1}\n",
      "10249:\n",
      "\t{}\n",
      "\t{7035: 1, 3930: 1}\n",
      "12:\n",
      "\t{2: 1, 1506: 1}\n",
      "\t{2: 1, 1506: 2}\n",
      "15:\n",
      "\t{}\n",
      "\t{7200: 1}\n",
      "55312:\n",
      "\t{342184: 1}\n",
      "\t{342184: 1}\n",
      "17:\n",
      "\t{}\n",
      "\t{11275: 1}\n"
     ]
    }
   ],
   "source": [
    "count = 0\n",
    "for key in adjacency_list:\n",
    "    d_nbh = adjacency_list[key]\n",
    "    und_nbh = undirected_adjacency_list[key]\n",
    "    print('{}:\\n\\t{}\\n\\t{}'.format(key, d_nbh, und_nbh))\n",
    "    count += 1\n",
    "    if count == 10:\n",
    "        break"
   ]
  },
  {
   "cell_type": "code",
   "execution_count": 9,
   "metadata": {},
   "outputs": [],
   "source": [
    "import pickle\n",
    "filename = 'adjacency_list_{}'.format(year)\n",
    "pickle_out = open(filename, 'wb')\n",
    "pickle.dump(adjacency_list, pickle_out)\n",
    "pickle_out.close()"
   ]
  },
  {
   "cell_type": "code",
   "execution_count": 10,
   "metadata": {},
   "outputs": [],
   "source": [
    "filename = 'adjacency_list_{}_undirected'.format(year)\n",
    "pickle_out = open(filename, 'wb')\n",
    "pickle.dump(undirected_adjacency_list, pickle_out)\n",
    "pickle_out.close()"
   ]
  },
  {
   "cell_type": "code",
   "execution_count": null,
   "metadata": {},
   "outputs": [],
   "source": []
  }
 ],
 "metadata": {
  "kernelspec": {
   "display_name": "Python 3",
   "language": "python",
   "name": "python3"
  },
  "language_info": {
   "codemirror_mode": {
    "name": "ipython",
    "version": 3
   },
   "file_extension": ".py",
   "mimetype": "text/x-python",
   "name": "python",
   "nbconvert_exporter": "python",
   "pygments_lexer": "ipython3",
   "version": "3.6.1"
  }
 },
 "nbformat": 4,
 "nbformat_minor": 2
}
