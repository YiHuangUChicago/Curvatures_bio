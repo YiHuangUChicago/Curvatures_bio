{
 "cells": [
  {
   "cell_type": "code",
   "execution_count": 1,
   "metadata": {},
   "outputs": [],
   "source": [
    "# from datahelpers.community_tools import prepare_graphdf, prepare_graph_from_df\n",
    "# from datahelpers.community_tools import meta_calculate_comms"
   ]
  },
  {
   "cell_type": "markdown",
   "metadata": {},
   "source": [
    "install datahelpes from here : https://github.com/alexander-belikov/datahelpers\n",
    "also pandas and igraph should be installed"
   ]
  },
  {
   "cell_type": "code",
   "execution_count": 1,
   "metadata": {},
   "outputs": [],
   "source": [
    "from itertools import product\n",
    "from pprint import pprint\n",
    "from pandas import HDFStore, read_hdf\n",
    "import pandas as pd\n",
    "from os.path import expanduser"
   ]
  },
  {
   "cell_type": "code",
   "execution_count": 2,
   "metadata": {},
   "outputs": [
    {
     "name": "stdout",
     "output_type": "stream",
     "text": [
      "['edges_all_lit8.h5', 'edges_all_gw11.h5']\n"
     ]
    }
   ],
   "source": [
    "versions = [8, 11]\n",
    "df_types = ['lit', 'gw']\n",
    "\n",
    "fnames = ['edges_all_{0}{1}.h5'.format(t, v) for t, v in zip(df_types, versions)]\n",
    "print(fnames)"
   ]
  },
  {
   "cell_type": "markdown",
   "metadata": {},
   "source": [
    "## Check the keys in hdf files"
   ]
  },
  {
   "cell_type": "code",
   "execution_count": 3,
   "metadata": {},
   "outputs": [],
   "source": [
    "keys = {}\n",
    "index_list = []\n",
    "for f in fnames:\n",
    "    store = HDFStore(expanduser(f), mode='r')\n",
    "    # store = HDFStore(f, mode='r')\n",
    "    # store = read_hdf(f, '/y2013')\n",
    "    # print(store)\n",
    "    keys[f] = sorted(store.keys())\n",
    "    index_list += store.keys()   "
   ]
  },
  {
   "cell_type": "code",
   "execution_count": null,
   "metadata": {},
   "outputs": [],
   "source": [
    "# See which years are contained in both database\n",
    "# index = sorted(list(set(index_list)))\n",
    "# index = [year[-4:] for year in index]\n",
    "# print(index)\n",
    "# data = [[year] + [('/y' + year in keys[f]) for f in keys.keys()] for year in index]\n",
    "# print(data)\n",
    "# df = pd.DataFrame(data)\n",
    "# df.set_index(0, inplace=True)\n",
    "# df.columns = ['literome', 'geneways']"
   ]
  },
  {
   "cell_type": "markdown",
   "metadata": {},
   "source": [
    "## practice merging:"
   ]
  },
  {
   "cell_type": "code",
   "execution_count": 6,
   "metadata": {},
   "outputs": [
    {
     "name": "stdout",
     "output_type": "stream",
     "text": [
      "165143\n"
     ]
    }
   ],
   "source": [
    "df_1 = read_hdf('edges_all_lit8.h5', '/y2013')\n",
    "df_2 = read_hdf('edges_all_gw11.h5', '/y2013')\n",
    "edges= {}\n",
    "for i in df_1.index:\n",
    "    key = str(df_1['up'][i]) + '_' + str(df_1['dn'][i])\n",
    "    value = df_1[0][i]\n",
    "    edges[key] = value\n",
    "\n",
    "for i in df_2.index:\n",
    "    key = str(df_2['up'][i]) + '_' + str(df_1['dn'][i])\n",
    "    value = df_1[0][i]\n",
    "    if key in edges.keys():\n",
    "        edges[key] = max(edges[key], value)\n",
    "    else:\n",
    "        edges[key] = value\n",
    "print(len(edges))"
   ]
  },
  {
   "cell_type": "markdown",
   "metadata": {},
   "source": [
    "Please be advised that there are genes are both up and dn."
   ]
  },
  {
   "cell_type": "code",
   "execution_count": 8,
   "metadata": {},
   "outputs": [
    {
     "name": "stdout",
     "output_type": "stream",
     "text": [
      "0: 551\n",
      "1: 1950\n",
      "2: 1958\n",
      "3: 3458\n",
      "4: 3480\n",
      "5: 3553\n",
      "6: 3565\n",
      "7: 3630\n",
      "8: 5347\n",
      "9: 5617\n",
      "10: 5921\n",
      "11: 6446\n",
      "12: 7001\n",
      "13: 7124\n",
      "14: 7157\n",
      "15: 22974\n",
      "136790\n",
      "coupled = 28369, uncoupled = 108421\n",
      "165159\n",
      "56722\n"
     ]
    }
   ],
   "source": [
    "undirected_edges = {}\n",
    "coupled_1 = 0\n",
    "coupled = 0\n",
    "uncoupled = 0\n",
    "same = 0\n",
    "for edge in edges.keys():\n",
    "    up, down = edge.split('_')\n",
    "    if up == down:\n",
    "        print('{}: {}'.format(same, up))\n",
    "        same += 1\n",
    "    reversed_edge = down + '_' + up\n",
    "    if reversed_edge in edges:\n",
    "        coupled_1 += 1\n",
    "        if reversed_edge not in undirected_edges:\n",
    "            undirected_edges[edge] = max(edges[edge], edges[reversed_edge])\n",
    "            coupled += 1\n",
    "    else:\n",
    "        undirected_edges[edge] = edges[edge]\n",
    "        uncoupled += 1\n",
    "print(len(undirected_edges))\n",
    "print('coupled = {}, uncoupled = {}'.format(coupled, uncoupled))\n",
    "print(coupled * 2 + uncoupled)\n",
    "print(coupled_1)"
   ]
  },
  {
   "cell_type": "code",
   "execution_count": null,
   "metadata": {
    "scrolled": false
   },
   "outputs": [],
   "source": [
    "def merge(fnames, year):\n",
    "    df_dict = {f: read_hdf(f, '/y' + year) for f in fnames}\n",
    "    "
   ]
  },
  {
   "cell_type": "markdown",
   "metadata": {},
   "source": [
    "## prepare_graphdf fetches the edges from a list hdf files that are under the key, e.g. 1995"
   ]
  },
  {
   "cell_type": "code",
   "execution_count": 6,
   "metadata": {
    "scrolled": false
   },
   "outputs": [
    {
     "ename": "NameError",
     "evalue": "name 'prepare_graphdf' is not defined",
     "output_type": "error",
     "traceback": [
      "\u001b[0;31m---------------------------------------------------------------------------\u001b[0m",
      "\u001b[0;31mNameError\u001b[0m                                 Traceback (most recent call last)",
      "\u001b[0;32m<ipython-input-6-c7032a673643>\u001b[0m in \u001b[0;36m<module>\u001b[0;34m()\u001b[0m\n\u001b[0;32m----> 1\u001b[0;31m \u001b[0mdf\u001b[0m \u001b[0;34m=\u001b[0m \u001b[0mprepare_graphdf\u001b[0m\u001b[0;34m(\u001b[0m\u001b[0mfnames\u001b[0m\u001b[0;34m,\u001b[0m \u001b[0;34m'edges'\u001b[0m\u001b[0;34m,\u001b[0m \u001b[0;36m1995\u001b[0m\u001b[0;34m)\u001b[0m\u001b[0;34m\u001b[0m\u001b[0m\n\u001b[0m",
      "\u001b[0;31mNameError\u001b[0m: name 'prepare_graphdf' is not defined"
     ]
    }
   ],
   "source": [
    "df = prepare_graphdf(fnames, 'edges', 1995)"
   ]
  },
  {
   "cell_type": "code",
   "execution_count": 6,
   "metadata": {
    "collapsed": true
   },
   "outputs": [
    {
     "data": {
      "text/plain": [
       "(28644, 3)"
      ]
     },
     "execution_count": 6,
     "metadata": {},
     "output_type": "execute_result"
    }
   ],
   "source": [
    "df.shape"
   ]
  },
  {
   "cell_type": "code",
   "execution_count": 7,
   "metadata": {},
   "outputs": [
    {
     "data": {
      "text/html": [
       "<div>\n",
       "<style scoped>\n",
       "    .dataframe tbody tr th:only-of-type {\n",
       "        vertical-align: middle;\n",
       "    }\n",
       "\n",
       "    .dataframe tbody tr th {\n",
       "        vertical-align: top;\n",
       "    }\n",
       "\n",
       "    .dataframe thead th {\n",
       "        text-align: right;\n",
       "    }\n",
       "</style>\n",
       "<table border=\"1\" class=\"dataframe\">\n",
       "  <thead>\n",
       "    <tr style=\"text-align: right;\">\n",
       "      <th></th>\n",
       "      <th>up</th>\n",
       "      <th>dn</th>\n",
       "      <th>0</th>\n",
       "    </tr>\n",
       "  </thead>\n",
       "  <tbody>\n",
       "    <tr>\n",
       "      <th>0</th>\n",
       "      <td>2</td>\n",
       "      <td>213</td>\n",
       "      <td>2</td>\n",
       "    </tr>\n",
       "    <tr>\n",
       "      <th>1</th>\n",
       "      <td>2</td>\n",
       "      <td>348</td>\n",
       "      <td>2</td>\n",
       "    </tr>\n",
       "    <tr>\n",
       "      <th>2</th>\n",
       "      <td>2</td>\n",
       "      <td>462</td>\n",
       "      <td>4</td>\n",
       "    </tr>\n",
       "    <tr>\n",
       "      <th>3</th>\n",
       "      <td>2</td>\n",
       "      <td>718</td>\n",
       "      <td>1</td>\n",
       "    </tr>\n",
       "    <tr>\n",
       "      <th>4</th>\n",
       "      <td>2</td>\n",
       "      <td>973</td>\n",
       "      <td>3</td>\n",
       "    </tr>\n",
       "  </tbody>\n",
       "</table>\n",
       "</div>"
      ],
      "text/plain": [
       "   up   dn  0\n",
       "0   2  213  2\n",
       "1   2  348  2\n",
       "2   2  462  4\n",
       "3   2  718  1\n",
       "4   2  973  3"
      ]
     },
     "execution_count": 7,
     "metadata": {},
     "output_type": "execute_result"
    }
   ],
   "source": [
    "df.head()"
   ]
  },
  {
   "cell_type": "markdown",
   "metadata": {},
   "source": [
    "## prepare_graph_from_df creates a graph (that has integer nodes) and provides weights and also a map i -> actual node"
   ]
  },
  {
   "cell_type": "code",
   "execution_count": 8,
   "metadata": {},
   "outputs": [],
   "source": [
    "g, weights, inv_conv = prepare_graph_from_df(df, 'edges', directed=False, percentile_value=None)"
   ]
  },
  {
   "cell_type": "code",
   "execution_count": null,
   "metadata": {},
   "outputs": [],
   "source": []
  }
 ],
 "metadata": {
  "kernelspec": {
   "display_name": "Python 3",
   "language": "python",
   "name": "python3"
  },
  "language_info": {
   "codemirror_mode": {
    "name": "ipython",
    "version": 3
   },
   "file_extension": ".py",
   "mimetype": "text/x-python",
   "name": "python",
   "nbconvert_exporter": "python",
   "pygments_lexer": "ipython3",
   "version": "3.6.1"
  }
 },
 "nbformat": 4,
 "nbformat_minor": 2
}
